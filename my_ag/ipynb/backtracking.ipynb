{
 "cells": [
  {
   "cell_type": "markdown",
   "metadata": {},
   "source": [
    "## backtracking\n",
    "> 백트레킹 기법은 해를 찾는 도중에 '막히면' 되돌아가서 다시 해를 찾아 가는 기법이다. 최적화 문제와 결정문제 해결 가능\n",
    "\n",
    "- 어떤 노드의 유망성을 점검한 후에 유망하지 않다고 결정되면 부모로 되돌아가 다음 자식 노드로 감\n",
    "- 해답이 될 수 없으면 유망하지않다, 해답의 가능성이 있으면 유망하다\n",
    "- 가지치기: 유망하지 않는 노드가 포함되는 경로는 더 이상 고려 x\n",
    "\n",
    ">절차\n",
    "1. 상태 공간 트리의 깊이 우선 검색을 실시간다\n",
    "2. 노드가 유망한지를 점검한다, 후보군 탐색\n",
    "3. 만일 그 노드가 유망하지 않으면 그 노드의 부모 노드로 돌아가서 검색을 계속한다."
   ]
  },
  {
   "cell_type": "markdown",
   "metadata": {},
   "source": [
    "### 백트래킹과 깊이우선탐색과의 차이\n",
    "- 노드에서 출발하는 경로가 해결책이 아니다싶으면 더 이상 그 경로를 안감으로써 시도 횟수 줄임\n",
    "- 깊이우선 탐색은 모든 경로 추적, 백트래킹은 불필요한 경로 조기에 차단\n",
    "- 깊이우선탐색을 쓰기엔 너무 경우의 수가 많음\n",
    "- 백트래킹 알고리즘을 적용하면 일반적으로 경우의 수 줄어듬, 하지만 최악의 경우 지수함수 시간을 요함\n",
    "\n"
   ]
  },
  {
   "cell_type": "code",
   "execution_count": null,
   "metadata": {},
   "outputs": [],
   "source": [
    "# 백트레킹 기본\n",
    " n, m = map(int, input().split())\n",
    "\n",
    "li = []\n",
    "\n",
    "for i in range(1,n+1):\n",
    "    li.append(i)\n",
    "\n",
    "stack = []\n",
    "\n",
    "def back():\n",
    "    if len(stack) ==m:\n",
    "        print(stack)\n",
    "        return\n",
    "\n",
    "    for i in li:\n",
    "        if i not in stack:\n",
    "            stack.append(i)\n",
    "            back()\n",
    "            stack.pop()\n",
    "\n",
    "back()            \n",
    "\n"
   ]
  },
  {
   "cell_type": "code",
   "execution_count": 7,
   "metadata": {},
   "outputs": [
    {
     "name": "stdout",
     "output_type": "stream",
     "text": [
      "[1, 1, 1] 1 2 3 \n",
      "[1, 1, 0] 1 2 \n",
      "[1, 0, 1] 1 3 \n",
      "[1, 0, 0] 1 \n",
      "[0, 1, 1] 2 3 \n",
      "[0, 1, 0] 2 \n",
      "[0, 0, 1] 3 \n",
      "[0, 0, 0] \n"
     ]
    }
   ],
   "source": [
    "# 재귀 부분집합\n",
    "\n",
    "def f(i, N):\n",
    "    if i ==N:\n",
    "        # print(bit)\n",
    "        print(bit, end = ' ')\n",
    "        for j in range(N):\n",
    "            if bit[j]:\n",
    "                print(a[j], end = ' ')\n",
    "        print()    \n",
    "        return\n",
    "    \n",
    "    else:\n",
    "        bit[i] =1\n",
    "        f(i+1, N)\n",
    "        bit[i] =0\n",
    "        f(i+1,N)\n",
    "\n",
    "a =[1,2,3]\n",
    "bit = [0]*3\n",
    "f(0,3)        "
   ]
  },
  {
   "cell_type": "code",
   "execution_count": 9,
   "metadata": {},
   "outputs": [
    {
     "name": "stdout",
     "output_type": "stream",
     "text": [
      "[1, 1, 1]\n",
      "1 2 3  : 6\n",
      "[1, 1, 0]\n",
      "1 2  : 3\n",
      "[1, 0, 1]\n",
      "1 3  : 4\n",
      "[1, 0, 0]\n",
      "1  : 1\n",
      "[0, 1, 1]\n",
      "2 3  : 5\n",
      "[0, 1, 0]\n",
      "2  : 2\n",
      "[0, 0, 1]\n",
      "3  : 3\n",
      "[0, 0, 0]\n",
      " : 0\n"
     ]
    }
   ],
   "source": [
    "# 부분집합 합\n",
    "\n",
    "\n",
    "def f(i, N):\n",
    "    if i ==N:\n",
    "        print(bit)\n",
    "        s=0\n",
    "        for j in range(N):\n",
    "            if bit[j]:\n",
    "                s +=a[j]\n",
    "                print(a[j], end = ' ')\n",
    "        print(f' : {s}')    \n",
    "        return\n",
    "    \n",
    "    else:\n",
    "        bit[i] =1\n",
    "        f(i+1, N)\n",
    "        bit[i] =0\n",
    "        f(i+1,N)\n",
    "\n",
    "a =[1,2,3]\n",
    "bit = [0]*3\n",
    "f(0,3)        "
   ]
  },
  {
   "cell_type": "code",
   "execution_count": 12,
   "metadata": {},
   "outputs": [
    {
     "name": "stdout",
     "output_type": "stream",
     "text": [
      "[1, 1, 1]  : 6\n",
      "[1, 1, 0]  : 3\n",
      "[1, 0, 1]  : 4\n",
      "[1, 0, 0]  : 1\n",
      "[0, 1, 1]  : 5\n",
      "[0, 1, 0]  : 2\n",
      "[0, 0, 1]  : 3\n",
      "[0, 0, 0]  : 0\n"
     ]
    }
   ],
   "source": [
    "# 부분집합 합\n",
    "\n",
    "\n",
    "def f(i, N,s): #s : i-1 원소까지 부분집합의 합 \n",
    "    if i ==N:\n",
    "        print(bit, end = ' ')\n",
    "        print(f' : {s}')    \n",
    "        return\n",
    "    \n",
    "    else:\n",
    "        bit[i] =1\n",
    "        f(i+1, N, s+a[i])\n",
    "        bit[i] =0\n",
    "        f(i+1,N,s)\n",
    "\n",
    "a =[1,2,3]\n",
    "bit = [0]*3\n",
    "f(0,3,0)        "
   ]
  },
  {
   "cell_type": "code",
   "execution_count": null,
   "metadata": {},
   "outputs": [],
   "source": [
    "# 부분집합 합 10인경우\n",
    "\n",
    "\n",
    "def f(i, N,s,t): #s : i-1 원소까지 부분집합의 합 # t는 찾으려는 합\n",
    "    \n",
    "    if s ==t:\n",
    "        print(bit)\n",
    "        return\n",
    "    elif i ==N: # 남은원소가 없는경우\n",
    "        print(bit, end = ' ')\n",
    "        print(f' : {s}')    \n",
    "        return\n",
    "    \n",
    "    else:\n",
    "        bit[i] =1\n",
    "        f(i+1, N, s+a[i],t)\n",
    "        bit[i] =0\n",
    "        f(i+1,N,s)\n",
    "n=10\n",
    "a =[i for i in range(1,n+1),t]\n",
    "bit = [0]*n\n",
    "f(0,n,0,10)        "
   ]
  }
 ],
 "metadata": {
  "kernelspec": {
   "display_name": "Python 3",
   "language": "python",
   "name": "python3"
  },
  "language_info": {
   "codemirror_mode": {
    "name": "ipython",
    "version": 3
   },
   "file_extension": ".py",
   "mimetype": "text/x-python",
   "name": "python",
   "nbconvert_exporter": "python",
   "pygments_lexer": "ipython3",
   "version": "3.9.13"
  },
  "orig_nbformat": 4
 },
 "nbformat": 4,
 "nbformat_minor": 2
}
