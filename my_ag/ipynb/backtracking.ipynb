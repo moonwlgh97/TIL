{
 "cells": [
  {
   "cell_type": "markdown",
   "metadata": {},
   "source": [
    "## backtracking\n",
    "> 백트레킹 기법은 해를 찾는 도중에 '막히면' 되돌아가서 다시 해를 찾아 가는 기법이다. 최적화 문제와 결정문제 해결 가능\n",
    "\n",
    "- 어떤 노드의 유망성을 점검한 후에 유망하지 않다고 결정되면 부모로 되돌아가 다음 자식 노드로 감\n",
    "- 해답이 될 수 없으면 유망하지않다, 해답의 가능성이 있으면 유망하다\n",
    "- 가지치기: 유망하지 않는 노드가 포함되는 경로는 더 이상 고려 x\n",
    "\n",
    ">절차\n",
    "1. 상태 공간 트리의 깊이 우선 검색을 실시간다\n",
    "2. 노드가 유망한지를 점검한다, 후보군 탐색\n",
    "3. 만일 그 노드가 유망하지 않으면 그 노드의 부모 노드로 돌아가서 검색을 계속한다."
   ]
  },
  {
   "cell_type": "markdown",
   "metadata": {},
   "source": [
    "### 백트래킹과 깊이우선탐색과의 차이\n",
    "- 노드에서 출발하는 경로가 해결책이 아니다싶으면 더 이상 그 경로를 안감으로써 시도 횟수 줄임\n",
    "- 깊이우선 탐색은 모든 경로 추적, 백트래킹은 불필요한 경로 조기에 차단\n",
    "- 깊이우선탐색을 쓰기엔 너무 경우의 수가 많음\n",
    "- 백트래킹 알고리즘을 적용하면 일반적으로 경우의 수 줄어듬, 하지만 최악의 경우 지후함수 시간을 요함\n",
    "\n"
   ]
  },
  {
   "cell_type": "code",
   "execution_count": null,
   "metadata": {},
   "outputs": [],
   "source": [
    "# 백트레킹 기본\n",
    " n, m = map(int, input().split())\n",
    "\n",
    "li = []\n",
    "\n",
    "for i in range(1,n+1):\n",
    "    li.append(i)\n",
    "\n",
    "stack = []\n",
    "\n",
    "def back():\n",
    "    if len(stack) ==m:\n",
    "        print(stack)\n",
    "        return\n",
    "\n",
    "    for i in li:\n",
    "        if i not in stack:\n",
    "            stack.append(i)\n",
    "            back()\n",
    "            stack.pop()\n",
    "\n",
    "back()            \n",
    "\n"
   ]
  },
  {
   "cell_type": "markdown",
   "metadata": {},
   "source": []
  },
  {
   "cell_type": "markdown",
   "metadata": {},
   "source": []
  },
  {
   "cell_type": "code",
   "execution_count": null,
   "metadata": {},
   "outputs": [],
   "source": []
  }
 ],
 "metadata": {
  "language_info": {
   "name": "python"
  },
  "orig_nbformat": 4
 },
 "nbformat": 4,
 "nbformat_minor": 2
}
