{
 "cells": [
  {
   "cell_type": "markdown",
   "metadata": {},
   "source": [
    "## 트리\n",
    "> 비선형구조, 게층관계를 가지는 계층형 자료구조, 상위원소에서 하위원소로 내려가면서 확장되는 트리모양의 구조\n",
    "- 한 개 이상의 노드로 이루어진 유한 집합 \n",
    "- 루트: 트리의 시작 노드\n",
    "- 노드: 트리의 원소\n",
    "- 간선: 노드를 연결하는 선\n",
    "- 형제 노드: 같은 부모 노드의 자식 노드들\n",
    "- 조상 노드: 간선을 따라 루트 노드까지 이르는 경로에 있는 모든 노드들\n",
    "- 서브 트리- 부모 노드와 연결된 간선을 끊었을 떄 생성되는 트리\n",
    "- 자손노드- 서브트리에 있는 하위레벨 노드\n"
   ]
  },
  {
   "cell_type": "markdown",
   "metadata": {},
   "source": [
    "### 차수\n",
    "- 노드의 차수: 노드에 연결된 자식의 노드의 수\n",
    "- 트리의 차수: 트리에 있는 노드의 차수 중에서 가장 큰 값\n",
    "- 단말노드: 차수가 0인 노드, 자식이 없는 노드"
   ]
  },
  {
   "cell_type": "markdown",
   "metadata": {},
   "source": [
    "### 높이\n",
    "- 노드의 높이: 루트에서 노드에 이르는 간선의 수, 노드의 레벨\n",
    "- 트리의 높이: 트리에 있는 노드의 높이 중에서 가장 큰값, 최대레벨"
   ]
  },
  {
   "cell_type": "markdown",
   "metadata": {},
   "source": [
    "## 이진트리\n",
    "> 각 노드들이 2개의 서브트리를 갖는 특별한 형태의 트리\n",
    "- 레벨 i 에서의 노드의 최대 개수는 2^i 개\n",
    "- 높이가 h인 이진트리가 가질 수 있는 노드의 최소 개수는 (h+1)개 이며 최대 개수는       2^(h+1)-1 개\n"
   ]
  },
  {
   "cell_type": "markdown",
   "metadata": {},
   "source": [
    "### 포화이진트리\n",
    "> 모든 레벨에 노드가 포화상태로 차 있는 이진트리\n",
    "- 높이가 h일때 최대의 노드 개수인 2^(h+1)-1의 노드를 가진 이진트리, 높이 3일때= 15개의 노드\n",
    "- 루트가 1번 보장\n",
    "\n"
   ]
  },
  {
   "cell_type": "markdown",
   "metadata": {},
   "source": [
    "### 완전이진트리\n",
    "> 높이가 h 이고 노드의 수가 n 개일때 n번까지 빈 자리가 없는 이진트리\n"
   ]
  },
  {
   "cell_type": "markdown",
   "metadata": {},
   "source": [
    "### 편향이진트리\n",
    "> 높이 h에 대한 최소 개수의 노드를 가지면서 한쪽 방향의 자식 노드만을 가진 이진트리\n"
   ]
  },
  {
   "cell_type": "markdown",
   "metadata": {},
   "source": [
    "### 순회 \n",
    "> 순회란 각 노드를 중복되지않게 전부 방문 하는것, 트리는 비선형구조이기 때문에 선후 연결관계를 알 수 없다\n",
    "\n",
    "- 전위 순회: 부모노드 방문 후 자식노드를 좌, 우 순서로 방문한다\n",
    "- 중위 순회: 왼쪽자식 노드 부모노드 오른쪽 자식노드 순으로 방문한다\n",
    "- 후위 순회: 자식노드를 좌우 순서로 방문한 후 부모노드로 방문한다"
   ]
  },
  {
   "cell_type": "code",
   "execution_count": null,
   "metadata": {},
   "outputs": [],
   "source": [
    "# 전위\n",
    "def preorder(node):\n",
    "    if node != 0:\n",
    "        print(node, end=' ')\n",
    "        preorder(left[node])\n",
    "        preorder(right[node])\n",
    "#중위\n",
    "def inorder(node):\n",
    "    if node != 0:\n",
    "        inorder(left[node])\n",
    "        print(node, end=' ')\n",
    "        inorder(right[node])\n",
    "\n",
    "# 후위\n",
    "def postorder(node):\n",
    "    if node != 0:\n",
    "        postorder(left[node])\n",
    "        postorder(right[node])\n",
    "        print(node, end=' ')\n",
    "\n",
    "\n",
    "\n",
    "\n",
    "\n",
    "V = int(input())\n",
    "E= V-1\n",
    "\n",
    "edge= list(map(int, input().split()))\n",
    "\n",
    "# 왼쪽자식\n",
    "left= [0] *(V+1)\n",
    "# 오른쪽자식\n",
    "right = [0]*(V+1)\n",
    "# 부모정보\n",
    "parent=[0]*(V+1)\n",
    "\n",
    "# 간선 정보 전수 조사\n",
    "for i in range(E):\n",
    "    p,c = edge[i*2], edge[i*2+1]\n",
    "    if left[p]==0: # 아직 왼쪽 자식이 기록되지 않았다면\n",
    "        left[p]=c\n",
    "    else:\n",
    "        right[p]=c\n",
    "\n",
    "    parent[c]=p\n",
    "\n",
    "root = 0\n",
    "for i in range(1,V+1):\n",
    "    if parent[i] ==0:\n",
    "        root=i\n",
    "        break\n",
    "\n",
    "\n",
    "# 전위순회\n",
    "preorder(root)    \n"
   ]
  },
  {
   "cell_type": "markdown",
   "metadata": {},
   "source": []
  },
  {
   "cell_type": "markdown",
   "metadata": {},
   "source": []
  },
  {
   "cell_type": "markdown",
   "metadata": {},
   "source": []
  }
 ],
 "metadata": {
  "language_info": {
   "name": "python"
  },
  "orig_nbformat": 4
 },
 "nbformat": 4,
 "nbformat_minor": 2
}
