{
 "cells": [
  {
   "cell_type": "markdown",
   "metadata": {},
   "source": [
    "# Stack\n",
    "> 쌓아올리다, 삽입과 삭제 연산이 후입선출(Lifo)로 이루어진 구조, 선형구조(자료구조가 1대1)\n",
    "- s.append() : 값을 넣을때(push)\n",
    "- s[-1]: top 위치에 있는 현재 데이터 확인\n",
    "- s.pop() : top 위치에 있는 데이터를 삭제하고 확인\n",
    "- isEmpty : 스택이 공백인지 아닌지 확인하는 연산\n",
    "\n"
   ]
  },
  {
   "cell_type": "code",
   "execution_count": 18,
   "metadata": {},
   "outputs": [
    {
     "name": "stdout",
     "output_type": "stream",
     "text": [
      "[None, None, None]\n",
      "-1\n",
      "True\n",
      "<bound method Stack.is_full of <__main__.Stack object at 0x0000026D506D0BE0>>\n",
      "====\"A\"삽입 =====\n",
      "['A', None, None]\n",
      "0\n",
      "A\n",
      "====\"A\"제거 =====\n",
      "A\n",
      "['A', None, None]\n",
      "-1\n",
      "==== \"B\" 삽입 ====\n",
      "['B', None, None]\n",
      "0\n",
      "B\n"
     ]
    }
   ],
   "source": [
    "class Stack:\n",
    "    # Stack 자료구조를 생성하는 순간 , 기입해야하는 정보들\n",
    "    # 지금 생성한 Stack 의 크기\n",
    "\n",
    "    def __init__(self,size):\n",
    "        self.size = size\n",
    "        self.items = [None] *size\n",
    "        #  최초 생성시의 top\n",
    "        self.top = -1 #-1은 맨 뒤 아님\n",
    "    # 1. stack이 비었는지\n",
    "    def is_empty(self):\n",
    "        \n",
    "        #stack이 비었을 때 pop 메서드가 실행되면 \n",
    "        #현재 stack이 비어있음을 알려 줄 수 있어야한다\n",
    "        \n",
    "        if self.top == -1:\n",
    "            return True\n",
    "        else:\n",
    "            return False\n",
    "\n",
    "    #2 stack이 가득 찼는지\n",
    "    def is_full(self):\n",
    "        #stack이 가득 찼을 때  push 메서드가 실행되면 현재 stack이 가득 찼음을 알려 줄 수 있어야한다.\n",
    "        if self.top +1 == self.size:\n",
    "            return True\n",
    "        else:\n",
    "            return False\n",
    "    # 값 삽입\n",
    "    def push(self, item):\n",
    "        # stack이 가득 찼을때는 들어갈 수 없어야한다.\n",
    "        if self.is_full():\n",
    "            raise Exception('stack이 가득 찼어요')\n",
    "        else:\n",
    "            self.top +=1\n",
    "            self.items[self.top] = item\n",
    "     # 값 제거\n",
    "    def pop(self):\n",
    "        if self.is_empty():\n",
    "            raise Exception('stack에 값이 없어요')              \n",
    "        else:\n",
    "            value = self.items[self.top]\n",
    "            self.top -= 1\n",
    "            return value \n",
    "    # 5. top 위치의 값 출력\n",
    "    def peek(self):\n",
    "        # stack이 비어있지 않다면\n",
    "        if self.is_empty():\n",
    "            raise Exception('stack에 값이 없어요')\n",
    "        # top번째 위치에 삽입되오 있는 값을 반환\n",
    "        else:\n",
    "            return self.items[self.top]\n",
    "\n",
    "\n",
    "s1 = Stack(3)\n",
    "print(s1.items)\n",
    "print(s1.top)\n",
    "print(s1.is_empty())\n",
    "print(s1.is_full)\n",
    "print('====\"A\"삽입 =====')\n",
    "s1.push('A')  \n",
    "print(s1.items)\n",
    "print(s1.top)\n",
    "print(s1.peek())\n",
    "print('====\"A\"제거 =====') \n",
    "print(s1.pop())             \n",
    "print(s1.items)\n",
    "print(s1.top)\n",
    "print('==== \"B\" 삽입 ====')\n",
    "s1.push('B')\n",
    "print(s1.items)\n",
    "print(s1.top)\n",
    "print(s1.peek())\n"
   ]
  },
  {
   "cell_type": "markdown",
   "metadata": {},
   "source": [
    "### 재귀호출\n",
    "> 자기 자신을 호출하여 순환 수행, 프로그램 크기 줄임\n"
   ]
  },
  {
   "cell_type": "code",
   "execution_count": 4,
   "metadata": {},
   "outputs": [
    {
     "name": "stdout",
     "output_type": "stream",
     "text": [
      "3\n"
     ]
    }
   ],
   "source": [
    "# 피보나치\n",
    "\n",
    "def fibo(n):\n",
    "   \n",
    "    if n < 2 :\n",
    "        return n\n",
    "    else:\n",
    "        return fibo(n-1) + fibo(n-2)\n",
    "\n",
    "   \n",
    "\n",
    "print(fibo(4))\n",
    "\n",
    "  "
   ]
  },
  {
   "cell_type": "markdown",
   "metadata": {},
   "source": [
    "### Memoization\n",
    "> 이전에 계산한 값을 메모리에 저장해서 실행 속도를 빠르게 하는 기술이다, 동적계획법(dp)의 핵심"
   ]
  },
  {
   "cell_type": "code",
   "execution_count": 21,
   "metadata": {},
   "outputs": [
    {
     "name": "stdout",
     "output_type": "stream",
     "text": [
      "1\n"
     ]
    }
   ],
   "source": [
    "# Memoization\n",
    "\n",
    "\n",
    "def fibo1(n):\n",
    "    global memo\n",
    "    \n",
    "    if n>2 and memo[n] == 0:\n",
    "        memo[n] = (fibo1(n-1) + fibo1(n-2))\n",
    "    return memo[n]\n",
    "n=1000\n",
    "memo = [0] *(n+1)\n",
    "memo[0] = 0\n",
    "memo[1] = 1\n",
    "print(fibo1(4))\n",
    "\n",
    "\n",
    "\n",
    "\n",
    "\n"
   ]
  },
  {
   "cell_type": "markdown",
   "metadata": {},
   "source": []
  },
  {
   "cell_type": "markdown",
   "metadata": {},
   "source": []
  }
 ],
 "metadata": {
  "kernelspec": {
   "display_name": "Python 3",
   "language": "python",
   "name": "python3"
  },
  "language_info": {
   "codemirror_mode": {
    "name": "ipython",
    "version": 3
   },
   "file_extension": ".py",
   "mimetype": "text/x-python",
   "name": "python",
   "nbconvert_exporter": "python",
   "pygments_lexer": "ipython3",
   "version": "3.9.13"
  },
  "orig_nbformat": 4
 },
 "nbformat": 4,
 "nbformat_minor": 2
}
