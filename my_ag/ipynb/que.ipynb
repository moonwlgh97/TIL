{
 "cells": [
  {
   "cell_type": "markdown",
   "metadata": {},
   "source": [
    "## 큐\n",
    "> 삽입과 삭제의 위치가 제한적인 자료구조, 선입선출구조, 선형구조\n",
    "- front : 저장 된 원소 중 첫 번째 원소\n",
    "- rear: 저장된 원소 중 마지막 원소"
   ]
  },
  {
   "cell_type": "markdown",
   "metadata": {},
   "source": [
    "### 선형큐\n",
    "- 1차원 배열을 이용한 큐\n",
    "- 큐의 크기 = 배열의 크기 "
   ]
  },
  {
   "cell_type": "code",
   "execution_count": 5,
   "metadata": {},
   "outputs": [
    {
     "name": "stdout",
     "output_type": "stream",
     "text": [
      "[1, 2, 3]\n"
     ]
    }
   ],
   "source": [
    "def enQ(data):\n",
    "    global rear\n",
    "    if rear == Qsize-1:\n",
    "        print('Q is Full') # 가득 차면\n",
    "    else:    \n",
    "        rear +=1\n",
    "        Q[rear] = data\n",
    "\n",
    "Qsize =3\n",
    "Q = [0]*Qsize\n",
    "rear= -1\n",
    "front =-1\n",
    "enQ(1)\n",
    "enQ(2)\n",
    "enQ(3)\n",
    "\n",
    "print(Q)"
   ]
  },
  {
   "cell_type": "markdown",
   "metadata": {},
   "source": [
    "### 우선순위 큐\n",
    "> 우선순위 항목들을 저장하는 큐 , 우선순위가 높은 순서대로 먼저 나감\n",
    "- 삽입 과정에서 우선순위 비교하여 적절한 위치에 삽입하는 구조\n",
    "- 가장 앞에 최고 우선순위의 원소"
   ]
  },
  {
   "cell_type": "code",
   "execution_count": 8,
   "metadata": {},
   "outputs": [
    {
     "name": "stdout",
     "output_type": "stream",
     "text": [
      "deque(['A', 'B'])\n",
      "A\n",
      "deque(['B'])\n"
     ]
    }
   ],
   "source": [
    "from collections import deque\n",
    "# queue=[]\n",
    "# queue.append('A')\n",
    "# queue.append('B')\n",
    "# print(queue)\n",
    "# print(queue.pop(0))\n",
    "# print(queue)\n",
    "\n",
    "queue = deque()\n",
    "queue.append('A')\n",
    "queue.append('B')\n",
    "print(queue)\n",
    "print(queue.popleft())\n",
    "print(queue)"
   ]
  },
  {
   "cell_type": "code",
   "execution_count": null,
   "metadata": {},
   "outputs": [],
   "source": []
  },
  {
   "cell_type": "code",
   "execution_count": null,
   "metadata": {},
   "outputs": [],
   "source": []
  }
 ],
 "metadata": {
  "kernelspec": {
   "display_name": "Python 3",
   "language": "python",
   "name": "python3"
  },
  "language_info": {
   "codemirror_mode": {
    "name": "ipython",
    "version": 3
   },
   "file_extension": ".py",
   "mimetype": "text/x-python",
   "name": "python",
   "nbconvert_exporter": "python",
   "pygments_lexer": "ipython3",
   "version": "3.9.13"
  },
  "orig_nbformat": 4
 },
 "nbformat": 4,
 "nbformat_minor": 2
}
