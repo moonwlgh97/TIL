{
 "cells": [
  {
   "cell_type": "markdown",
   "metadata": {},
   "source": [
    "## 계산기\n",
    "> 문자열로 된 계산식이 주어질 때 스택을 이용하여 이 계산식의 값을 계산할 수 있다.\n",
    "- 중위표기법 : 연산자를 피연산자 가운데 표기하는 방법 ex) A+B\n",
    "- 후위표기법: 연산자를 피연산자 뒤에 표기하는 방법 ex) AB+ dd\n"
   ]
  },
  {
   "cell_type": "code",
   "execution_count": 1,
   "metadata": {},
   "outputs": [
    {
     "ename": "IndentationError",
     "evalue": "expected an indented block (3839731288.py, line 6)",
     "output_type": "error",
     "traceback": [
      "\u001b[1;36m  Cell \u001b[1;32mIn[1], line 6\u001b[1;36m\u001b[0m\n\u001b[1;33m    \u001b[0m\n\u001b[1;37m    ^\u001b[0m\n\u001b[1;31mIndentationError\u001b[0m\u001b[1;31m:\u001b[0m expected an indented block\n"
     ]
    }
   ],
   "source": [
    "stack=[]   # 연산자\n",
    "result=[] # 후위표기식\n",
    "\n",
    "for i in s:\n",
    "    if s.isdigit:\n",
    "        result.append(i)\n",
    "\n",
    "    else:\n",
    "        if not stack:\n",
    "            stack.append(i)\n",
    "\n",
    "        else:\n",
    "            if i =='(':\n",
    "                stack.append(i)\n",
    "\n",
    "            elif i ==')':\n",
    "                while stack[-1]!='(': # (가 나올때까지\n",
    "                    result.append(stack.pop())\n",
    "                stack.pop() # '(' 을 지움\n",
    "\n",
    "            elif i == '*' or i =='/':\n",
    "                # 스택이 비어있지 않고 최상단 스택이 같은 우선순위 값이 나올때 까지\n",
    "                while stack and stack[-1]=='*' or stack[-1]=='/':\n",
    "                    result.append(stack.pop())\n",
    "                stack.append(i)\n",
    "\n",
    "            elif i == '+' or i=='-':\n",
    "                # 스택이 비어있지 않고 최상단 스택이 최상위 우선순위인 ( 나올때까지\n",
    "                while stack and stack[-1]!='(':\n",
    "                    result.append(stack.pop())\n",
    "                stack.append(i)    \n",
    "while stack:\n",
    "    result.append(stack.pop())                            \n",
    "\n",
    "\n",
    "        \n",
    "\n",
    "  \n"
   ]
  },
  {
   "cell_type": "markdown",
   "metadata": {},
   "source": []
  },
  {
   "cell_type": "markdown",
   "metadata": {},
   "source": []
  },
  {
   "cell_type": "code",
   "execution_count": null,
   "metadata": {},
   "outputs": [],
   "source": []
  },
  {
   "cell_type": "code",
   "execution_count": null,
   "metadata": {},
   "outputs": [],
   "source": []
  }
 ],
 "metadata": {
  "kernelspec": {
   "display_name": "Python 3",
   "language": "python",
   "name": "python3"
  },
  "language_info": {
   "codemirror_mode": {
    "name": "ipython",
    "version": 3
   },
   "file_extension": ".py",
   "mimetype": "text/x-python",
   "name": "python",
   "nbconvert_exporter": "python",
   "pygments_lexer": "ipython3",
   "version": "3.9.13"
  },
  "orig_nbformat": 4
 },
 "nbformat": 4,
 "nbformat_minor": 2
}
