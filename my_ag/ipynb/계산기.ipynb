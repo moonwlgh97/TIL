{
 "cells": [
  {
   "cell_type": "code",
   "execution_count": 2,
   "metadata": {},
   "outputs": [
    {
     "name": "stdout",
     "output_type": "stream",
     "text": [
      "-9.0\n"
     ]
    }
   ],
   "source": [
    "# 6528-*2/+\n",
    "\n",
    "stack=[0]*100\n",
    "top =-1\n",
    "s = '6528-*2/+' \n",
    "for x in s:\n",
    "    # 피연산자면...\n",
    "    if x not in '+-/*':\n",
    "        # push x\n",
    "        top+=1\n",
    "        stack[top] =int(x)\n",
    "    \n",
    "      \n",
    "           \n",
    "    else:\n",
    "        op2= stack[top]\n",
    "        top -=1\n",
    "        op1= stack[top]\n",
    "        top-=1     \n",
    "        if x =='+': # 순서 상관 x\n",
    "            top +=1\n",
    "            stack[top] = op1 +op2\n",
    "\n",
    "        elif x == '-':\n",
    "            \n",
    "            top +=1\n",
    "            stack[top] = op1 - op2\n",
    "        \n",
    "        elif x == '/':\n",
    "            \n",
    "            top +=1\n",
    "            stack[top] = op1/op2\n",
    "\n",
    "        elif x == '*':\n",
    "            \n",
    "            top +=1\n",
    "            stack[top] = op1 *  op2\n",
    "\n",
    "print(stack[top])                "
   ]
  },
  {
   "cell_type": "code",
   "execution_count": null,
   "metadata": {},
   "outputs": [],
   "source": [
    "# (6+5*(2-8)/2)\n",
    "\n",
    "stack= [0] *100\n",
    "top= -1\n",
    "icp ={'(' :3, '*':2, '/':2, '+':1, '-':1}\n",
    "isp = {'(' :0, '*':2, '/':2, '+':1, '-':1}\n",
    "s=(6+5*(2-8)/2)\n",
    "\n",
    "for x in s:\n",
    "    if x in '(+-*/)':\n",
    "        if top ==-1 or isp[stack[top]] < icp[x]: # 토큰의 우선순위가 더 높으면\n",
    "            top += 1\n",
    "            stack[top] =x\n",
    "\n",
    "\n",
    "    \n",
    "\n",
    "\n"
   ]
  }
 ],
 "metadata": {
  "kernelspec": {
   "display_name": "Python 3",
   "language": "python",
   "name": "python3"
  },
  "language_info": {
   "codemirror_mode": {
    "name": "ipython",
    "version": 3
   },
   "file_extension": ".py",
   "mimetype": "text/x-python",
   "name": "python",
   "nbconvert_exporter": "python",
   "pygments_lexer": "ipython3",
   "version": "3.9.13"
  },
  "orig_nbformat": 4
 },
 "nbformat": 4,
 "nbformat_minor": 2
}
