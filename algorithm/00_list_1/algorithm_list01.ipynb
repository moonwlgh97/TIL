{
 "cells": [
  {
   "cell_type": "markdown",
   "metadata": {},
   "source": [
    "# Algorithm lsit\n"
   ]
  },
  {
   "cell_type": "markdown",
   "metadata": {},
   "source": [
    "### <정렬> "
   ]
  },
  {
   "cell_type": "markdown",
   "metadata": {},
   "source": [
    "#### 버블 정렬\n",
    "> 데이터의 인접 요소끼리 비교하고 swap 연산을 수행하며 정렬하는 방식\n",
    "- 시간 복잡도는 O(n^2)이고 다른 정렬보다 느림\n",
    "- 특정한 루프의 영역에서 swap 이 발생하지 않았다면 그 영역은 정렬됐다는 뜻이므로 프로세스 종료\n",
    "\n"
   ]
  },
  {
   "cell_type": "code",
   "execution_count": 2,
   "metadata": {},
   "outputs": [
    {
     "name": "stdout",
     "output_type": "stream",
     "text": [
      "[1, 5, 6, 8]\n"
     ]
    }
   ],
   "source": [
    "# 버블정렬\n",
    "\n",
    "\n",
    "arr= [6, 8, 5, 1]\n",
    "\n",
    "for i in range(len(arr)-1 , 0 , -1):\n",
    "    for j in range(i):\n",
    "        if arr[j] > arr[j+1]:\n",
    "            arr[j], arr[j+1] = arr[j+1], arr[j]\n",
    "\n",
    "print(arr)            \n",
    "\n"
   ]
  },
  {
   "cell_type": "markdown",
   "metadata": {},
   "source": [
    "#### 카운팅 정렬\n",
    "> 항목의 순서를 결정학 위해 집합에 각 항목이 몇 개씩 있는지 세는 작업\n",
    "- 시간 복잡도 : O(n+k)"
   ]
  },
  {
   "cell_type": "code",
   "execution_count": 7,
   "metadata": {},
   "outputs": [
    {
     "name": "stdout",
     "output_type": "stream",
     "text": [
      "[0, 1, 1, 2, 2, 1, 0, 1, 0, 1]\n",
      "[0, 1, 2, 4, 6, 7, 7, 8, 8, 9]\n",
      "[1, 2, 3, 3, 4, 4, 5, 7, 9]\n"
     ]
    }
   ],
   "source": [
    "# 카운팅 정렬\n",
    "arr = [4, 7, 9, 1, 3, 5, 2, 3, 4]\n",
    "\n",
    "count = [0] * (max(arr) +1) # 원소의 최대값 까지를 인덱스로 사용할 수 있도록 만듬\n",
    "\n",
    "for num in arr:\n",
    "    count[num] +=1\n",
    "print(count)   \n",
    "\n",
    "# 누적합 값 갱신\n",
    "\n",
    "for i in range(1, len(count)):\n",
    "    count[i] += count[i-1]\n",
    "print(count)  \n",
    "\n",
    "result = [0]*(len(arr))\n",
    "\n",
    "for num in arr:\n",
    "    idx = count[num]\n",
    "    result[idx-1] = num\n",
    "    count[num] -= 1\n",
    "print(result)    \n"
   ]
  },
  {
   "cell_type": "markdown",
   "metadata": {},
   "source": []
  },
  {
   "cell_type": "markdown",
   "metadata": {},
   "source": []
  }
 ],
 "metadata": {
  "kernelspec": {
   "display_name": "Python 3",
   "language": "python",
   "name": "python3"
  },
  "language_info": {
   "codemirror_mode": {
    "name": "ipython",
    "version": 3
   },
   "file_extension": ".py",
   "mimetype": "text/x-python",
   "name": "python",
   "nbconvert_exporter": "python",
   "pygments_lexer": "ipython3",
   "version": "3.9.13"
  },
  "orig_nbformat": 4
 },
 "nbformat": 4,
 "nbformat_minor": 2
}
