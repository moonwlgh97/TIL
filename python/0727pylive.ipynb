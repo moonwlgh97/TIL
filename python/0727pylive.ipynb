{
 "cells": [
  {
   "cell_type": "markdown",
   "metadata": {},
   "source": [
    "# 0727 python live\n"
   ]
  },
  {
   "cell_type": "markdown",
   "metadata": {},
   "source": [
    "### 상속\n",
    "> 기존 클래스의 속성과 메서드를 물려받아 새로운 하위 클래스를 생성하는 것\n",
    "\n",
    "1. 코드 재사용\n",
    "- 상속을 통해 기존 클래스의 속성과 메서드 재사용\n",
    "- 기존 클래스의 기능을 그대로 활용 가능하며 중복코드 줄일 수 있음\n",
    "\n",
    "2. 계층 구조\n",
    "- 계층 구조 형성할 수 있음\n",
    "- 부모, 자식 클래스간의 관계를 표현, 더 구체적으로 표현\n",
    "\n",
    "3. 유지보수의 용이성\n",
    "- 기존 클래스의 수정이 필요한 경우 해당 클래스만 수정하면 되므로 유지 보수 용이\n",
    "- 코드 일관성 유지, 수정 범위 최소화"
   ]
  },
  {
   "cell_type": "code",
   "execution_count": null,
   "metadata": {},
   "outputs": [],
   "source": [
    "# 상속 없이 구현하는 경우\n"
   ]
  },
  {
   "cell_type": "code",
   "execution_count": null,
   "metadata": {},
   "outputs": [],
   "source": [
    "# 메서드 중복 정의"
   ]
  },
  {
   "cell_type": "code",
   "execution_count": 1,
   "metadata": {},
   "outputs": [
    {
     "name": "stdout",
     "output_type": "stream",
     "text": [
      "안녕, 박교수입니다\n",
      "안녕, 김학생입니다\n"
     ]
    }
   ],
   "source": [
    "# 상속을 사용한 계층구조 변경\n",
    "class Person:\n",
    "    def __init__(self,name,age):\n",
    "        self.name=name\n",
    "        self.age =age\n",
    "\n",
    "    def talk(self):\n",
    "        print(f'안녕, {self.name}입니다')\n",
    "\n",
    "\n",
    "class Professor(Person):\n",
    "    def __init__(self, name, age,department):\n",
    "        #Person.__init__(self,name,age)\n",
    "        super().__init__(name, age)\n",
    "        self.department = department\n",
    "\n",
    "\n",
    "class student(Person):\n",
    "    def __init__(self, name, age,gpa):\n",
    "        super().__init__(name, age)\n",
    "        self.gpa =gpa\n",
    "\n",
    "\n",
    "p1=Professor('박교수', 49, '컴콩')\n",
    "s1=student('김학생', 20, 3.5)\n",
    "\n",
    "p1.talk()\n",
    "s1.talk()"
   ]
  },
  {
   "cell_type": "markdown",
   "metadata": {},
   "source": [
    "#### super()\n",
    "> 부모클래스의 메서드를 호출하기 위해 사용되는 내장 함수"
   ]
  },
  {
   "cell_type": "markdown",
   "metadata": {},
   "source": [
    "### 다중상속\n",
    "- 두개 이상의 클래스를 상속 받는 경우\n",
    "- 상속받은 모든 클래스의 요소를 활용 가능함\n",
    "- 중복된 속성이나 메서드가 있는 경우 `상속 순서에 의해 결정 됨`"
   ]
  },
  {
   "cell_type": "code",
   "execution_count": 9,
   "metadata": {},
   "outputs": [
    {
     "name": "stdout",
     "output_type": "stream",
     "text": [
      "첫째가 응애\n",
      "첫째가 수영\n",
      "아빠가 걷기\n",
      "XY\n"
     ]
    }
   ],
   "source": [
    "# 다중상속 예시\n",
    "class Person:\n",
    "    def __init__(self,name):\n",
    "        self.name=name\n",
    "        \n",
    "    def greeting(self):\n",
    "        return f'안녕, {self.name}'\n",
    "\n",
    "\n",
    "class Mom(Person):\n",
    "    gene = 'XX'\n",
    "\n",
    "    def swim(self):\n",
    "     return '엄마가 수영'\n",
    "\n",
    "\n",
    "class Dad(Person):\n",
    "    gene = 'XY'\n",
    "\n",
    "    def walk(self):\n",
    "     return '아빠가 걷기'\n",
    "\n",
    "class firstchild(Dad,Mom):\n",
    "   def swim(self):\n",
    "      return '첫째가 수영'\n",
    "   \n",
    "    \n",
    "   def cry(self):\n",
    "      return '첫째가 응애'\n",
    "   \n",
    "\n",
    "baby1= firstchild('아가')\n",
    "\n",
    "print(baby1.cry())\n",
    "print(baby1.swim())\n",
    "print(baby1.walk())\n",
    "print(baby1.gene)"
   ]
  },
  {
   "cell_type": "markdown",
   "metadata": {},
   "source": [
    "#### 상속 관련 함수와 메서드\n",
    "1. mro()\n",
    "- 해당 인스턴스의 클래스가 어떤 부모 클래스를 가지는지 확인하는 메서드\n",
    "- 상속관계에 있으면 인스턴스 -> 자식클래스 -> 부모클래스"
   ]
  },
  {
   "cell_type": "markdown",
   "metadata": {},
   "source": [
    "### Errors & Exception"
   ]
  },
  {
   "cell_type": "markdown",
   "metadata": {},
   "source": [
    "#### 디버깅\n",
    "> 버그를 찾아내고 수정하는 과정, 오작동 원인을 식별하여 수정하는 과정\n"
   ]
  },
  {
   "cell_type": "code",
   "execution_count": null,
   "metadata": {},
   "outputs": [],
   "source": []
  },
  {
   "cell_type": "code",
   "execution_count": null,
   "metadata": {},
   "outputs": [],
   "source": []
  },
  {
   "cell_type": "code",
   "execution_count": null,
   "metadata": {},
   "outputs": [],
   "source": []
  },
  {
   "cell_type": "code",
   "execution_count": null,
   "metadata": {},
   "outputs": [],
   "source": []
  },
  {
   "cell_type": "code",
   "execution_count": null,
   "metadata": {},
   "outputs": [],
   "source": []
  },
  {
   "cell_type": "code",
   "execution_count": null,
   "metadata": {},
   "outputs": [],
   "source": []
  }
 ],
 "metadata": {
  "kernelspec": {
   "display_name": "Python 3",
   "language": "python",
   "name": "python3"
  },
  "language_info": {
   "codemirror_mode": {
    "name": "ipython",
    "version": 3
   },
   "file_extension": ".py",
   "mimetype": "text/x-python",
   "name": "python",
   "nbconvert_exporter": "python",
   "pygments_lexer": "ipython3",
   "version": "3.9.13"
  },
  "orig_nbformat": 4
 },
 "nbformat": 4,
 "nbformat_minor": 2
}
