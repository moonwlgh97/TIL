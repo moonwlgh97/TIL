{
 "cells": [
  {
   "cell_type": "markdown",
   "metadata": {},
   "source": [
    "# 0725 python live"
   ]
  },
  {
   "cell_type": "markdown",
   "metadata": {},
   "source": [
    "## 비시퀀스 구조"
   ]
  },
  {
   "cell_type": "markdown",
   "metadata": {},
   "source": [
    "### set\n",
    "> 고유한 항목들의 정렬되지 않은 컬렉션 (중복 x, 정렬 x)\n"
   ]
  },
  {
   "cell_type": "markdown",
   "metadata": {},
   "source": [
    "- .add(x)\n",
    "> 세트에 x를 추가"
   ]
  },
  {
   "cell_type": "code",
   "execution_count": 1,
   "metadata": {},
   "outputs": [
    {
     "name": "stdout",
     "output_type": "stream",
     "text": [
      "{1, 2, 3, 4}\n"
     ]
    }
   ],
   "source": [
    "my_set = {1, 2, 3}\n",
    "my_set.add(4)\n",
    "print(my_set)"
   ]
  },
  {
   "cell_type": "markdown",
   "metadata": {},
   "source": [
    "- .clear()\n",
    "> 세트의 모든 항목을 제거"
   ]
  },
  {
   "cell_type": "code",
   "execution_count": 4,
   "metadata": {},
   "outputs": [
    {
     "name": "stdout",
     "output_type": "stream",
     "text": [
      "set()\n"
     ]
    }
   ],
   "source": [
    "my_set = {1, 2, 3}\n",
    "my_set.clear()\n",
    "print(my_set)"
   ]
  },
  {
   "cell_type": "markdown",
   "metadata": {},
   "source": [
    "- .remove(x)\n",
    "> 세트에서 항목 x를 제거"
   ]
  },
  {
   "cell_type": "code",
   "execution_count": 6,
   "metadata": {},
   "outputs": [
    {
     "name": "stdout",
     "output_type": "stream",
     "text": [
      "{1, 3}\n"
     ]
    },
    {
     "ename": "KeyError",
     "evalue": "10",
     "output_type": "error",
     "traceback": [
      "\u001b[1;31m---------------------------------------------------------------------------\u001b[0m",
      "\u001b[1;31mKeyError\u001b[0m                                  Traceback (most recent call last)",
      "Cell \u001b[1;32mIn[6], line 5\u001b[0m\n\u001b[0;32m      2\u001b[0m my_set\u001b[39m.\u001b[39mremove(\u001b[39m2\u001b[39m)\n\u001b[0;32m      3\u001b[0m \u001b[39mprint\u001b[39m(my_set)\n\u001b[1;32m----> 5\u001b[0m my_set\u001b[39m.\u001b[39;49mremove(\u001b[39m10\u001b[39;49m)\n\u001b[0;32m      6\u001b[0m \u001b[39mprint\u001b[39m(my_set)\n",
      "\u001b[1;31mKeyError\u001b[0m: 10"
     ]
    }
   ],
   "source": [
    "my_set = {1, 2, 3}\n",
    "my_set.remove(2)\n",
    "print(my_set)\n",
    "\n",
    "my_set.remove(10)\n",
    "print(my_set)"
   ]
  },
  {
   "cell_type": "markdown",
   "metadata": {},
   "source": [
    "- .discard()\n",
    "> 세트 s에서 항목 x를 제거, remove와 달리 에러 없음"
   ]
  },
  {
   "cell_type": "code",
   "execution_count": 8,
   "metadata": {},
   "outputs": [
    {
     "name": "stdout",
     "output_type": "stream",
     "text": [
      "{1, 3}\n",
      "{1, 3}\n"
     ]
    }
   ],
   "source": [
    "my_set = {1, 2, 3}\n",
    "my_set.discard(2)\n",
    "print(my_set)\n",
    "\n",
    "my_set.discard(10) ### 에러없음\n",
    "print(my_set)"
   ]
  },
  {
   "cell_type": "code",
   "execution_count": 5,
   "metadata": {},
   "outputs": [
    {
     "name": "stdout",
     "output_type": "stream",
     "text": [
      "{1, 3}\n"
     ]
    },
    {
     "ename": "KeyError",
     "evalue": "10",
     "output_type": "error",
     "traceback": [
      "\u001b[1;31m---------------------------------------------------------------------------\u001b[0m",
      "\u001b[1;31mKeyError\u001b[0m                                  Traceback (most recent call last)",
      "Cell \u001b[1;32mIn[5], line 6\u001b[0m\n\u001b[0;32m      2\u001b[0m my_set\u001b[39m.\u001b[39mdiscard(\u001b[39m2\u001b[39m)\n\u001b[0;32m      4\u001b[0m \u001b[39mprint\u001b[39m(my_set)\n\u001b[1;32m----> 6\u001b[0m my_set\u001b[39m.\u001b[39;49mremove(\u001b[39m10\u001b[39;49m)\n",
      "\u001b[1;31mKeyError\u001b[0m: 10"
     ]
    }
   ],
   "source": [
    "\n",
    "## .remove() 와 .discard()의 차이\n",
    "\n",
    "my_set = {1, 2, 3}\n",
    "my_set.discard(2)\n",
    "\n",
    "print(my_set)\n",
    "\n",
    "my_set.remove(10) # key error\n",
    "my_set.discard(10) # 에러 발생 x\n",
    "print(my_set.discard(10)) # -> none"
   ]
  },
  {
   "cell_type": "markdown",
   "metadata": {},
   "source": [
    "- .pop()\n",
    "> 세트에서 `임의의` 요소를 제거하고 반환(set은 순서가 없기 때문)\n"
   ]
  },
  {
   "cell_type": "code",
   "execution_count": 8,
   "metadata": {},
   "outputs": [
    {
     "name": "stdout",
     "output_type": "stream",
     "text": [
      "1\n",
      "{2, 3}\n"
     ]
    }
   ],
   "source": [
    "my_set = {1, 2, 3}\n",
    "\n",
    "element = my_set.pop()\n",
    "print(element)\n",
    "print(my_set)"
   ]
  },
  {
   "cell_type": "markdown",
   "metadata": {},
   "source": [
    "- .update(iterable)\n",
    "> 세트에 다른 iterable 요소를 추가"
   ]
  },
  {
   "cell_type": "code",
   "execution_count": 10,
   "metadata": {},
   "outputs": [
    {
     "name": "stdout",
     "output_type": "stream",
     "text": [
      "{1, 2, 3, 4, 5}\n"
     ]
    }
   ],
   "source": [
    "my_set={1, 2, 3 }\n",
    "my_set.update([4,5,1])\n",
    "print(my_set)"
   ]
  },
  {
   "cell_type": "markdown",
   "metadata": {},
   "source": [
    "### 세트의 집합 메서드\n",
    "- set1.difference(ser2) : 차집합(set1 - set2)\n",
    "- set1.intersection(set2) : 교집합(set1 & set2)\n",
    "- set1.issubset(set2) : set1의 항목이 모두 set2에 들어있으면 True 반환 (set1 <= set2)\n",
    "- set1.issuperset(set2) : set1이 set2의 항목을 모두 포함하면 True 반환 (set1 >= set2 )\n",
    "- set1.union(set2) : 합집합 (set1 | set2)"
   ]
  },
  {
   "cell_type": "markdown",
   "metadata": {},
   "source": [
    "## 딕셔너리\n",
    "> 고유한 항목들의 정렬되지 않은 컬렉션"
   ]
  },
  {
   "cell_type": "markdown",
   "metadata": {},
   "source": [
    "### 딕셔너리 메서드"
   ]
  },
  {
   "cell_type": "markdown",
   "metadata": {},
   "source": [
    "- .clear()\n",
    "> 딕셔너리 모든 키 값을 제거"
   ]
  },
  {
   "cell_type": "code",
   "execution_count": 11,
   "metadata": {},
   "outputs": [
    {
     "name": "stdout",
     "output_type": "stream",
     "text": [
      "{}\n"
     ]
    }
   ],
   "source": [
    "person = {'name' : 'Alice' , 'age' : 25}\n",
    "person.clear()\n",
    "print(person)"
   ]
  },
  {
   "cell_type": "markdown",
   "metadata": {},
   "source": [
    "- .get(key,[ ,default])\n",
    "> 키 연결된 값을 반환하거나 키가 없으면 None 혹은 기본 값을 반환"
   ]
  },
  {
   "cell_type": "code",
   "execution_count": 11,
   "metadata": {},
   "outputs": [
    {
     "name": "stdout",
     "output_type": "stream",
     "text": [
      "Alice\n",
      "Alice\n"
     ]
    },
    {
     "ename": "KeyError",
     "evalue": "'age'",
     "output_type": "error",
     "traceback": [
      "\u001b[1;31m---------------------------------------------------------------------------\u001b[0m",
      "\u001b[1;31mKeyError\u001b[0m                                  Traceback (most recent call last)",
      "Cell \u001b[1;32mIn[11], line 9\u001b[0m\n\u001b[0;32m      6\u001b[0m \u001b[39mprint\u001b[39m(my_dict\u001b[39m.\u001b[39mget(\u001b[39m'\u001b[39m\u001b[39mname\u001b[39m\u001b[39m'\u001b[39m))\n\u001b[0;32m      8\u001b[0m \u001b[39m# 찾고자하는 키가 없을 때\u001b[39;00m\n\u001b[1;32m----> 9\u001b[0m \u001b[39mprint\u001b[39m(my_dict[\u001b[39m'\u001b[39;49m\u001b[39mage\u001b[39;49m\u001b[39m'\u001b[39;49m]) \u001b[39m# KeyError\u001b[39;00m\n\u001b[0;32m     10\u001b[0m \u001b[39mprint\u001b[39m(my_dict\u001b[39m.\u001b[39mget(\u001b[39m'\u001b[39m\u001b[39mage\u001b[39m\u001b[39m'\u001b[39m)) \u001b[39m# none\u001b[39;00m\n\u001b[0;32m     11\u001b[0m \u001b[39mprint\u001b[39m(my_dict\u001b[39m.\u001b[39mget(\u001b[39m'\u001b[39m\u001b[39mage\u001b[39m\u001b[39m'\u001b[39m, \u001b[39m'\u001b[39m\u001b[39mUnknown\u001b[39m\u001b[39m'\u001b[39m)) \u001b[39m# Unknown\u001b[39;00m\n",
      "\u001b[1;31mKeyError\u001b[0m: 'age'"
     ]
    }
   ],
   "source": [
    "my_dict ={\n",
    "    'name': 'Alice'\n",
    "}\n",
    "\n",
    "print(my_dict['name'])\n",
    "print(my_dict.get('name'))\n",
    "\n",
    "# 찾고자하는 키가 없을 때\n",
    "print(my_dict['age']) # KeyError\n",
    "print(my_dict.get('age')) # none\n",
    "print(my_dict.get('age', 'Unknown')) # Unknown"
   ]
  },
  {
   "cell_type": "markdown",
   "metadata": {},
   "source": [
    "- .keys()\n",
    "> 딕셔너리 키를 모은 객체를 반환"
   ]
  },
  {
   "cell_type": "code",
   "execution_count": 19,
   "metadata": {},
   "outputs": [
    {
     "name": "stdout",
     "output_type": "stream",
     "text": [
      "dict_keys(['name', 'age'])\n",
      "name\n",
      "age\n",
      "dict_values(['Alice', 25])\n",
      "Alice\n",
      "25\n",
      "dict_items([('name', 'Alice'), ('age', 25)])\n",
      "name Alice\n",
      "age 25\n"
     ]
    }
   ],
   "source": [
    "person ={\n",
    "    'name': 'Alice',\n",
    "     'age':25\n",
    "}\n",
    "#### .keys()\n",
    "print(person.keys())\n",
    "for key in person.keys():\n",
    "    print(key)\n",
    "### .values()\n",
    "print(person.values())   \n",
    "for value in person.values():\n",
    "    print(value) \n",
    "\n",
    "### .items()\n",
    "print(person.items())\n",
    "for key, value in person.items():\n",
    "    print(key, value)    "
   ]
  },
  {
   "cell_type": "markdown",
   "metadata": {},
   "source": [
    "- .pop(key[ ,default])\n",
    "> 키를 제거하고 연결됐던 값을 반환(없으면 에러나 default를 반환)"
   ]
  },
  {
   "cell_type": "code",
   "execution_count": 12,
   "metadata": {},
   "outputs": [
    {
     "name": "stdout",
     "output_type": "stream",
     "text": [
      "25\n",
      "{'name': 'Alice'}\n",
      "None\n"
     ]
    },
    {
     "ename": "KeyError",
     "evalue": "'country'",
     "output_type": "error",
     "traceback": [
      "\u001b[1;31m---------------------------------------------------------------------------\u001b[0m",
      "\u001b[1;31mKeyError\u001b[0m                                  Traceback (most recent call last)",
      "Cell \u001b[1;32mIn[12], line 6\u001b[0m\n\u001b[0;32m      4\u001b[0m \u001b[39mprint\u001b[39m(person)\n\u001b[0;32m      5\u001b[0m \u001b[39mprint\u001b[39m(person\u001b[39m.\u001b[39mpop(\u001b[39m'\u001b[39m\u001b[39mcountry\u001b[39m\u001b[39m'\u001b[39m, \u001b[39mNone\u001b[39;00m)) \u001b[39m#none\u001b[39;00m\n\u001b[1;32m----> 6\u001b[0m \u001b[39mprint\u001b[39m(person\u001b[39m.\u001b[39;49mpop(\u001b[39m'\u001b[39;49m\u001b[39mcountry\u001b[39;49m\u001b[39m'\u001b[39;49m)) \u001b[39m## 키에러\u001b[39;00m\n",
      "\u001b[1;31mKeyError\u001b[0m: 'country'"
     ]
    }
   ],
   "source": [
    "person =  {'name' : 'Alice' , 'age' : 25}\n",
    "\n",
    "print(person.pop('age')) # 25\n",
    "print(person)\n",
    "print(person.pop('country', None)) #none\n",
    "print(person.pop('country')) ## 키에러\n"
   ]
  },
  {
   "cell_type": "markdown",
   "metadata": {},
   "source": [
    "- .setdefault(key[ , default])\n",
    "> 키와 연결된 값을 반환, 키가 없다면 default와 연결한 키를 딕셔너리에 추가하고 default 반환"
   ]
  },
  {
   "cell_type": "code",
   "execution_count": 13,
   "metadata": {},
   "outputs": [
    {
     "name": "stdout",
     "output_type": "stream",
     "text": [
      "KOREA\n",
      "{'name': 'Alice', 'age': 25, 'country': 'KOREA'}\n"
     ]
    }
   ],
   "source": [
    "person = {'name' : 'Alice' , 'age' : 25}\n",
    "\n",
    "print(person.setdefault('country', 'KOREA'))\n",
    "print(person)"
   ]
  },
  {
   "cell_type": "markdown",
   "metadata": {},
   "source": [
    "- .update(other)\n",
    "> other가 제공하는 키/값 쌍으로 딕셔너리를 갱신, 기존키는 덮어씀"
   ]
  },
  {
   "cell_type": "code",
   "execution_count": 17,
   "metadata": {},
   "outputs": [
    {
     "name": "stdout",
     "output_type": "stream",
     "text": [
      "{'name': 'Jane', 'age': 25, 'gender': 'Female'}\n",
      "{'name': 'Jane', 'age': 50, 'gender': 'Female'}\n",
      "{'name': 'Jane', 'age': 50, 'gender': 'Female', 'country': 'KOREA'}\n"
     ]
    }
   ],
   "source": [
    "person = {'name' : 'Alice' , 'age' : 25}\n",
    "other_person = {'name' : 'Jane', 'gender' : 'Female'}\n",
    "\n",
    "person.update(other_person)\n",
    "print(person)\n",
    "\n",
    "person.update(age =50)\n",
    "print(person)\n",
    "\n",
    "person.update(country = 'KOREA')\n",
    "print(person)"
   ]
  },
  {
   "cell_type": "code",
   "execution_count": 24,
   "metadata": {},
   "outputs": [
    {
     "name": "stdout",
     "output_type": "stream",
     "text": [
      "{'A': 3, 'B': 3, 'O': 3, 'AB': 3}\n",
      "{'A': 3, 'B': 3, 'O': 3, 'AB': 3}\n",
      "{'A': 3, 'B': 3, 'O': 3, 'AB': 3}\n"
     ]
    }
   ],
   "source": [
    "#혈액형 인원수 세기\n",
    "# 결과 => {'A': 3, 'B': 3, 'O':3, \"AB\":3}\n",
    "\n",
    "blood_types = ['A', 'B', 'A', 'O', 'AB', 'AB', 'O', 'A', 'B', 'O', 'B', 'AB']\n",
    "\n",
    "# []\n",
    "new_dict = {}\n",
    "#blood_types을 순회하면서\n",
    "for blood_type in blood_types:\n",
    "    #기존에 키가 이미 존재한다면,\n",
    "    if blood_type in new_dict:\n",
    "        #기존에 키의 값을 +1 증가\n",
    "       new_dict[blood_type] +=1\n",
    "    #키가 존재하지 않는다면(처음 설정되는 키)\n",
    "    else:\n",
    "        new_dict[blood_type] = 1\n",
    "\n",
    "print(new_dict)         \n",
    "\n",
    "#.get()\n",
    "new_dict = {}\n",
    "#blood_types을 순회하면서\n",
    "for blood_type in blood_types:\n",
    "\n",
    "    new_dict[blood_type] = new_dict.get(blood_type, 0)+1  \n",
    "\n",
    "print(new_dict)         \n",
    "\n",
    "#.setdefault()\n",
    "new_dict = {}\n",
    "for blood_type in blood_types:\n",
    "\n",
    "    new_dict.setdefault(blood_type, 0)\n",
    "    new_dict[blood_type]+=1\n",
    "\n",
    "    \n",
    "print(new_dict)         \n",
    "\n"
   ]
  },
  {
   "cell_type": "markdown",
   "metadata": {},
   "source": [
    "### 복사\n",
    "- 파이썬에서는 데이터에 분류에 따라 복사가 달라짐"
   ]
  },
  {
   "cell_type": "code",
   "execution_count": 19,
   "metadata": {},
   "outputs": [
    {
     "name": "stdout",
     "output_type": "stream",
     "text": [
      "[100, 2, 3, 4]\n",
      "[100, 2, 3, 4]\n"
     ]
    }
   ],
   "source": [
    "#변경 가능한 데이터 타입의 복사\n",
    "\n",
    "a=[1, 2, 3, 4]\n",
    "b = a\n",
    "b[0] =100\n",
    "\n",
    "print(a)\n",
    "print(b)"
   ]
  },
  {
   "cell_type": "code",
   "execution_count": 20,
   "metadata": {},
   "outputs": [
    {
     "name": "stdout",
     "output_type": "stream",
     "text": [
      "20\n",
      "10\n"
     ]
    }
   ],
   "source": [
    "# 변경 불가능한 데이터 타입의 복사\n",
    "\n",
    "a=20 \n",
    "b = a\n",
    "b =10\n",
    "\n",
    "print(a)\n",
    "print(b)\n"
   ]
  },
  {
   "cell_type": "markdown",
   "metadata": {},
   "source": [
    "- 할당\n",
    "> 할당 연산자(=)를 통한 복사는 해당 객체에 대한 객체 참조를 복사."
   ]
  },
  {
   "cell_type": "code",
   "execution_count": 21,
   "metadata": {},
   "outputs": [
    {
     "name": "stdout",
     "output_type": "stream",
     "text": [
      "[1, 2, 3] [1, 2, 3]\n",
      "['hi', 2, 3] ['hi', 2, 3]\n"
     ]
    }
   ],
   "source": [
    "original_list = [1,2 ,3]\n",
    "copy_list = original_list\n",
    "print(copy_list, original_list)\n",
    "\n",
    "copy_list[0] = 'hi'\n",
    "print(original_list, copy_list)"
   ]
  },
  {
   "cell_type": "markdown",
   "metadata": {},
   "source": [
    "- 얕은 복사\n",
    "> 슬라이싱을 통해 생성된 객체는 우너본 객체와 독립적으로 존재"
   ]
  },
  {
   "cell_type": "code",
   "execution_count": 28,
   "metadata": {},
   "outputs": [
    {
     "name": "stdout",
     "output_type": "stream",
     "text": [
      "[1, 2, 3] [1, 2, 3]\n",
      "[1, 2, 3] [100, 2, 3]\n"
     ]
    }
   ],
   "source": [
    "#얕은 복사 예시\n",
    "a = [1, 2, 3]\n",
    "b=a[:]\n",
    "print(a, b)\n",
    "\n",
    "b[0]= 100\n",
    "print(a, b)\n",
    "#슬라이싱\n",
    "\n",
    "\n",
    "\n",
    "\n",
    "\n"
   ]
  },
  {
   "cell_type": "code",
   "execution_count": 29,
   "metadata": {},
   "outputs": [
    {
     "name": "stdout",
     "output_type": "stream",
     "text": [
      "[1, 2, 3] [100, 2, 3]\n"
     ]
    }
   ],
   "source": [
    "# copy\n",
    "a = [1, 2, 3]\n",
    "\n",
    "c = a.copy()\n",
    "c[0] =100\n",
    "print(a, c)\n"
   ]
  },
  {
   "cell_type": "code",
   "execution_count": 25,
   "metadata": {},
   "outputs": [
    {
     "name": "stdout",
     "output_type": "stream",
     "text": [
      "[1, 2, [999, 2]] [1, 2, [999, 2]]\n",
      "[1, 2, [999, 2]] [1, 2, [999, 2]]\n"
     ]
    }
   ],
   "source": [
    "#얕은 복사의 한계\n",
    "\n",
    "a= [1, 2, [1, 2]]\n",
    "b = a[:]\n",
    "b[2][0] = 999\n",
    "print(a, b) # a가 똑같이 변경됨\n",
    "\n",
    "\n",
    "a= [1, 2, [1, 2]]\n",
    "c = a.copy()\n",
    "c[2][0] = 999\n",
    "print(a, c)\n"
   ]
  },
  {
   "cell_type": "markdown",
   "metadata": {},
   "source": [
    "- 깊은 복사\n",
    "> 내부에 중첩된 모든 객체까지 새로운 주소를 참조하도록 함"
   ]
  },
  {
   "cell_type": "code",
   "execution_count": 30,
   "metadata": {},
   "outputs": [
    {
     "name": "stderr",
     "output_type": "stream",
     "text": [
      "<>:4: SyntaxWarning: 'int' object is not subscriptable; perhaps you missed a comma?\n",
      "<>:4: SyntaxWarning: 'int' object is not subscriptable; perhaps you missed a comma?\n",
      "C:\\Users\\SSAFY\\AppData\\Local\\Temp\\ipykernel_12348\\3932913987.py:4: SyntaxWarning: 'int' object is not subscriptable; perhaps you missed a comma?\n",
      "  original_list = [1, 2 [1, 2]]\n",
      "C:\\Users\\SSAFY\\AppData\\Local\\Temp\\ipykernel_12348\\3932913987.py:4: SyntaxWarning: 'int' object is not subscriptable; perhaps you missed a comma?\n",
      "  original_list = [1, 2 [1, 2]]\n",
      "C:\\Users\\SSAFY\\AppData\\Local\\Temp\\ipykernel_12348\\3932913987.py:4: SyntaxWarning: 'int' object is not subscriptable; perhaps you missed a comma?\n",
      "  original_list = [1, 2 [1, 2]]\n"
     ]
    },
    {
     "ename": "TypeError",
     "evalue": "'int' object is not subscriptable",
     "output_type": "error",
     "traceback": [
      "\u001b[1;31m---------------------------------------------------------------------------\u001b[0m",
      "\u001b[1;31mTypeError\u001b[0m                                 Traceback (most recent call last)",
      "Cell \u001b[1;32mIn[30], line 4\u001b[0m\n\u001b[0;32m      1\u001b[0m \u001b[39m# 깊은 복사\u001b[39;00m\n\u001b[0;32m      2\u001b[0m \u001b[39mimport\u001b[39;00m \u001b[39mcopy\u001b[39;00m\n\u001b[1;32m----> 4\u001b[0m original_list \u001b[39m=\u001b[39m [\u001b[39m1\u001b[39m, \u001b[39m2\u001b[39;49m [\u001b[39m1\u001b[39;49m, \u001b[39m2\u001b[39;49m]]\n\u001b[0;32m      5\u001b[0m deep_copied_list \u001b[39m=\u001b[39m copy\u001b[39m.\u001b[39mdeepcopy(original_list)\n\u001b[0;32m      7\u001b[0m deep_copied_list[\u001b[39m2\u001b[39m][\u001b[39m0\u001b[39m] \u001b[39m=\u001b[39m \u001b[39m999\u001b[39m\n",
      "\u001b[1;31mTypeError\u001b[0m: 'int' object is not subscriptable"
     ]
    }
   ],
   "source": [
    "\n",
    "# 깊은 복사\n",
    "import copy\n",
    "\n",
    "original_list = [1, 2 [1, 2]]\n",
    "deep_copied_list = copy.deepcopy(original_list)\n",
    "\n",
    "deep_copied_list[2][0] = 999\n",
    "\n",
    "print(original_list, deep_copied_list)"
   ]
  },
  {
   "cell_type": "code",
   "execution_count": null,
   "metadata": {},
   "outputs": [],
   "source": []
  }
 ],
 "metadata": {
  "kernelspec": {
   "display_name": "Python 3",
   "language": "python",
   "name": "python3"
  },
  "language_info": {
   "codemirror_mode": {
    "name": "ipython",
    "version": 3
   },
   "file_extension": ".py",
   "mimetype": "text/x-python",
   "name": "python",
   "nbconvert_exporter": "python",
   "pygments_lexer": "ipython3",
   "version": "3.9.13"
  },
  "orig_nbformat": 4
 },
 "nbformat": 4,
 "nbformat_minor": 2
}
