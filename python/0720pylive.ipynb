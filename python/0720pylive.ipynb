{
 "cells": [
  {
   "cell_type": "markdown",
   "metadata": {},
   "source": [
    "# 0720 python live\n"
   ]
  },
  {
   "cell_type": "markdown",
   "metadata": {},
   "source": [
    "### 제어문\n",
    "> 코드의 실행 흐름을 제어하는데 사용하고 조건에 따라 코드블록을 실행하거나 반복적으로 코드를 실행\n"
   ]
  },
  {
   "cell_type": "markdown",
   "metadata": {},
   "source": [
    "### 조건문\n",
    "> 주어진 조건식을 평가하여 해당 조건이 참인 경우에만 코드 블록을 실행하거나 건너뜀"
   ]
  },
  {
   "cell_type": "code",
   "execution_count": 2,
   "metadata": {},
   "outputs": [
    {
     "name": "stdout",
     "output_type": "stream",
     "text": [
      "홀수입니다.\n"
     ]
    }
   ],
   "source": [
    "num =int( input('숫자를 입력하세요 :'))\n",
    "\n",
    "#if statement\n",
    "#num이 홀수라면\n",
    "if num % 2 == 1:\n",
    "    print('홀수입니다.')\n",
    "#num이 홀수가 아니라면\n",
    "else:\n",
    "    print('짝수입니다.')\n",
    "\n"
   ]
  },
  {
   "cell_type": "markdown",
   "metadata": {},
   "source": [
    "### 반복문\n",
    "> 주어진 코드블록을 여러 번 반복해서 실행하는 구문\n"
   ]
  },
  {
   "cell_type": "markdown",
   "metadata": {},
   "source": [
    "### for\n",
    "> 임의의 시퀸스의 항목들을 그 시퀸스에 들어있는 순서대로 반복\n",
    " - 반복가능한 객체 (iterable) : 반복문에서 순회할 수 있는 객체 ( 시퀸스 객체 뿐만아니라 dict, set 등도 포함)"
   ]
  },
  {
   "cell_type": "code",
   "execution_count": 3,
   "metadata": {},
   "outputs": [
    {
     "name": "stdout",
     "output_type": "stream",
     "text": [
      "[8, 12, 20, -16, 10]\n"
     ]
    }
   ],
   "source": [
    "# 인덱스로 리스트 순회\n",
    "\n",
    "numbers = [4,6,10, -8, 5]\n",
    "for i in range(len(numbers)):\n",
    "    numbers[i]= numbers[i] *2\n",
    "\n",
    "print(numbers)    "
   ]
  },
  {
   "cell_type": "markdown",
   "metadata": {},
   "source": [
    "### while\n",
    "> 주어진 조건식이 참인 동안 코드를 반복해서 실행, 조건이 거짓이 될떄까지 반복\n",
    "- while 은 반드시 종료조건이 필요"
   ]
  },
  {
   "cell_type": "code",
   "execution_count": 4,
   "metadata": {},
   "outputs": [
    {
     "ename": "NameError",
     "evalue": "name 'primt' is not defined",
     "output_type": "error",
     "traceback": [
      "\u001b[1;31m---------------------------------------------------------------------------\u001b[0m",
      "\u001b[1;31mNameError\u001b[0m                                 Traceback (most recent call last)",
      "Cell \u001b[1;32mIn[4], line 7\u001b[0m\n\u001b[0;32m      5\u001b[0m         \u001b[39mprint\u001b[39m(\u001b[39m'\u001b[39m\u001b[39m음수를 입력했습니다\u001b[39m\u001b[39m'\u001b[39m)\n\u001b[0;32m      6\u001b[0m     \u001b[39melse\u001b[39;00m:\n\u001b[1;32m----> 7\u001b[0m         primt(\u001b[39m'\u001b[39m\u001b[39m0은 양의 정수가 아닙니다.\u001b[39m\u001b[39m'\u001b[39m)\n\u001b[0;32m      9\u001b[0m     number \u001b[39m=\u001b[39m \u001b[39mint\u001b[39m(\u001b[39minput\u001b[39m(\u001b[39m'\u001b[39m\u001b[39m양의 정수를 입력해주세요. : \u001b[39m\u001b[39m'\u001b[39m))\n\u001b[0;32m     10\u001b[0m \u001b[39mprint\u001b[39m(\u001b[39m'\u001b[39m\u001b[39m잘했습니다!\u001b[39m\u001b[39m'\u001b[39m)            \n",
      "\u001b[1;31mNameError\u001b[0m: name 'primt' is not defined"
     ]
    }
   ],
   "source": [
    "number =int(input('양의정수를 입력해주세요. : '))\n",
    "\n",
    "while number <=0:\n",
    "    if number <0:\n",
    "        print('음수를 입력했습니다')\n",
    "    else:\n",
    "        print('0은 양의 정수가 아닙니다.')\n",
    "\n",
    "    number = int(input('양의 정수를 입력해주세요. : '))\n",
    "print('잘했습니다!')            "
   ]
  },
  {
   "cell_type": "markdown",
   "metadata": {},
   "source": [
    "### 적절한 반복문 활용하기\n",
    "\n",
    "1. for\n",
    "- 반복 횟수가 명확하게 정해져 있는 경우에 유용\n",
    "- 리스트 튜플 문자열과 같은 시퀀스 형식의 데이터를 처리할때\n",
    "\n",
    "2. while\n",
    "- 반복 횟수가 불명확하거나 조건에 따라 반복을 종료해야 할 때 유용\n",
    "- 예를 들어 사용자의 입력을 받아서 특정 조건이 충족 될 때까지 반복\n",
    "\n"
   ]
  },
  {
   "cell_type": "markdown",
   "metadata": {},
   "source": [
    "### 반복 제어\n",
    "- break : 반복을 즉시 중지\n",
    "- continue : 다음 반복으로 건너 뜀"
   ]
  },
  {
   "cell_type": "markdown",
   "metadata": {},
   "source": [
    "### list Comprehension\n",
    "> 간결하고 효율적인 리스트 생성방법\n"
   ]
  },
  {
   "cell_type": "code",
   "execution_count": 7,
   "metadata": {},
   "outputs": [],
   "source": [
    "# 홀수만 들어있는 리스트(1~10)\n",
    "new_list =[]\n",
    "\n",
    "for i in range(10):\n",
    "    if i % 2 ==1:\n",
    "     new_list.append(i)\n",
    "\n",
    "\n",
    "# list comprehension\n",
    "new_list_2=[i for i in range(10) if i %2 ==1]\n"
   ]
  },
  {
   "cell_type": "markdown",
   "metadata": {},
   "source": [
    "### pass\n",
    "> 아무런 동작도 수행하지 않고 넘어가는 역할"
   ]
  },
  {
   "cell_type": "markdown",
   "metadata": {},
   "source": [
    "### enumerate\n",
    ">iterable 객체의 각 요소에 대해 인덱스와 함께 반환하는 내장함수\n"
   ]
  },
  {
   "cell_type": "code",
   "execution_count": 8,
   "metadata": {},
   "outputs": [
    {
     "name": "stdout",
     "output_type": "stream",
     "text": [
      "인덱스 0 : apple\n",
      "인덱스 1 : banana\n",
      "인덱스 2 : cherry\n"
     ]
    }
   ],
   "source": [
    "fruits =[ 'apple', 'banana', 'cherry']\n",
    "\n",
    "for index, fruit in enumerate(fruits):\n",
    "    print(f'인덱스 {index} : {fruit}')"
   ]
  },
  {
   "cell_type": "code",
   "execution_count": null,
   "metadata": {},
   "outputs": [],
   "source": []
  }
 ],
 "metadata": {
  "kernelspec": {
   "display_name": "Python 3",
   "language": "python",
   "name": "python3"
  },
  "language_info": {
   "codemirror_mode": {
    "name": "ipython",
    "version": 3
   },
   "file_extension": ".py",
   "mimetype": "text/x-python",
   "name": "python",
   "nbconvert_exporter": "python",
   "pygments_lexer": "ipython3",
   "version": "3.9.13"
  },
  "orig_nbformat": 4
 },
 "nbformat": 4,
 "nbformat_minor": 2
}
