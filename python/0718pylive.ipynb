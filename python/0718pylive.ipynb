{
 "cells": [
  {
   "cell_type": "markdown",
   "metadata": {},
   "source": [
    "# 0718 python live"
   ]
  },
  {
   "cell_type": "markdown",
   "metadata": {},
   "source": [
    "## <Numeric Types>\n",
    "\n",
    "### int\n",
    "- 정수 자료형 (0, 음수, 양수)\n",
    "- 2진수: 0b, 8진수: 0o, 16진수 : 0x\n",
    "\n",
    "### float\n",
    "-실수를 표현하는 자료형(소수점)\n",
    "\n",
    "\n",
    "\n",
    "\n"
   ]
  },
  {
   "cell_type": "markdown",
   "metadata": {},
   "source": [
    "## sequence type\n",
    "> 여러개의 값들을 순서대로 나열하여 저장하는 자료형 (str, list, tuple, range)\n",
    "1. 순서: 값들이 순서대로 저장(`정렬x 주의사항!`)\n",
    "2. 인덱싱: 각 값에 고유한 인덱스(번호)를 가지고 있으며, 인덱스를 사용하여 특정 위치의 값을 선택하거나 수정할 수 있음\n",
    "3. 슬라이싱: 인덱스 범위를 조절해 부분적인 값을 추출할 수 있음\n",
    "4. 길이: len() 함수를 사용하여 저장된 값의 개수를 구할 수 있음\n",
    "5. 반복문을 사용하여 저장된 값들을 반복적으로 처리 할 수 있음\n",
    "\n",
    "### str\n",
    "- 문자열: 문자들의 순서가 있는 변경 불가능한 시퀀스 자료형(`불변형 자료`)\n",
    "#### escape sequence\n",
    "- \\n : 줄바꿈, \\t: 탭, '\\\\': 백슬래시, \\': 작은따옴표, \\\": 큰 따옴표\n",
    "#### string interpolation\n",
    "- 문자열 내에 변수나 표현식을 삽입하는 방법"
   ]
  },
  {
   "cell_type": "code",
   "execution_count": 14,
   "metadata": {},
   "outputs": [
    {
     "name": "stdout",
     "output_type": "stream",
     "text": [
      "Debugging roaches 13 living room\n"
     ]
    }
   ],
   "source": [
    "# f-string\n",
    "bugs = 'roaches'\n",
    "counts = 13\n",
    "area = 'living room'\n",
    "print(f'Debugging {bugs} {counts} {area}')\n"
   ]
  },
  {
   "cell_type": "code",
   "execution_count": 5,
   "metadata": {},
   "outputs": [
    {
     "name": "stdout",
     "output_type": "stream",
     "text": [
      "e\n",
      "ll\n",
      "5\n"
     ]
    }
   ],
   "source": [
    "#문자열 시퀀스 특징\n",
    "my_str = 'hello'\n",
    "#인덱스\n",
    "print(my_str[1])\n",
    "#슬라이싱\n",
    "print(my_str[2:4])\n",
    "#길이\n",
    "print(len(my_str))"
   ]
  },
  {
   "cell_type": "markdown",
   "metadata": {},
   "source": [
    "### 슬라이싱\n",
    "- 시퀀스의 일부분을 선택하여 추출하는 작업\n"
   ]
  },
  {
   "cell_type": "code",
   "execution_count": 13,
   "metadata": {},
   "outputs": [
    {
     "name": "stdout",
     "output_type": "stream",
     "text": [
      "hello\n"
     ]
    }
   ],
   "source": [
    "my_str = 'olleh'\n",
    "print(my_str[::-1])"
   ]
  },
  {
   "cell_type": "markdown",
   "metadata": {},
   "source": [
    "### list\n",
    "> 여러 개의 값을 순서대로 저장하는 `변경가능한` 시퀀스형 자료형\n",
    "- 0개 이상의 객체를 포함하며 데이터 목록을 저장\n",
    "- 대괄호로 표기\n",
    "- 데이터는 어떤 자료형도 저장할 수 있음"
   ]
  },
  {
   "cell_type": "markdown",
   "metadata": {},
   "source": [
    "### tuple\n",
    "> 여러개의 값을 순서대로 저장하는 `변경 불가능한 ` 시퀀스 자료형\n",
    "- 0개이상의 객체를 포함하며 데이터 목록을 저장\n",
    "- 소괄호로 표기\n",
    "- 데이터는 어떤 자료형도 저장할 수 있음\n",
    "- 튜플은 여러개의 값을 동시에 할당, 쉼표자체를 튜플 생성자로 사용하니 괄호 생략가능"
   ]
  },
  {
   "cell_type": "markdown",
   "metadata": {},
   "source": [
    "### range\n",
    ">`연속된 정수` 시퀀스를 생성하는 `변경 불가능한` 자료형\n",
    "- range(n) : 0부터 `n-1` 까지의 숫자 시퀀스\n",
    "- range(n,m) : n부터 m-1까지의 숫자 시퀀스\n",
    "- 리스트로 형 변환 시 데이터 확인가능\n"
   ]
  },
  {
   "cell_type": "markdown",
   "metadata": {},
   "source": [
    "## Non-sequence Types\n",
    "\n",
    "### dict\n",
    "> key- value 쌍으로 이루어진 `순서와 중복`이 없는 `가변형 자료형`\n",
    "- key는 `변경 불가능한 자료만` 사용가능(str, int, float, tuple, range) \n",
    "- value는 모든 자료형 가능\n",
    "- 중괄호로 표현\n",
    "- key를 통해 value에 접근"
   ]
  },
  {
   "cell_type": "markdown",
   "metadata": {},
   "source": [
    "### set\n",
    "> `순서와 중복`이 없는 `가변형 자료형`\n",
    "- 수학에ㅔ서의 집합과 동일한 연산 처리 가능\n",
    "- 중괄호로 표기\n",
    "- 중복 처리 가능  my_set ={1,1,1} -> {1}"
   ]
  },
  {
   "cell_type": "markdown",
   "metadata": {},
   "source": [
    "## otrher type"
   ]
  },
  {
   "cell_type": "markdown",
   "metadata": {},
   "source": [
    "### None\n",
    "> 값이 없음을 표현하는 자료형"
   ]
  },
  {
   "cell_type": "markdown",
   "metadata": {},
   "source": [
    "### Collection\n",
    "> 여러개의 항목 또는 요소룰 담는 자료 구조 , str, list, tuple, set, dict"
   ]
  },
  {
   "cell_type": "markdown",
   "metadata": {},
   "source": [
    "### 암시적 형 변환\n",
    "> boolean ,과 numeric type 에서만 가능\n",
    "- print(3+0.5) -> 8.0\n",
    "-print(True+False) ->1"
   ]
  },
  {
   "cell_type": "markdown",
   "metadata": {},
   "source": [
    "### 명시적 형변환\n",
    "> 직접 형변환을 하는 것\n"
   ]
  },
  {
   "cell_type": "markdown",
   "metadata": {},
   "source": [
    "### is 비교연산자\n",
    "- 메모리 내에서 같은 객체를 참조하는지 확인\n",
    "- == 는 동등성, is 는 식별성\n",
    "- 값을 비교하는 ==와 다름"
   ]
  },
  {
   "cell_type": "markdown",
   "metadata": {},
   "source": [
    "### 시퀀스형 연산자\n",
    "> '+' 와 *는 시퀀스간 연산에서 산술 연산자일때와 다른 역할을 가짐\n",
    "- '+'는 결합연산자\n",
    "- * 는 반복연산자"
   ]
  },
  {
   "cell_type": "markdown",
   "metadata": {},
   "source": []
  }
 ],
 "metadata": {
  "kernelspec": {
   "display_name": "Python 3",
   "language": "python",
   "name": "python3"
  },
  "language_info": {
   "codemirror_mode": {
    "name": "ipython",
    "version": 3
   },
   "file_extension": ".py",
   "mimetype": "text/x-python",
   "name": "python",
   "nbconvert_exporter": "python",
   "pygments_lexer": "ipython3",
   "version": "3.9.13"
  },
  "orig_nbformat": 4
 },
 "nbformat": 4,
 "nbformat_minor": 2
}
