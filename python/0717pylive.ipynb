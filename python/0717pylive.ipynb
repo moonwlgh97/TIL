{
 "cells": [
  {
   "cell_type": "markdown",
   "metadata": {},
   "source": [
    "# 0717 python live"
   ]
  },
  {
   "cell_type": "markdown",
   "metadata": {},
   "source": [
    "### 표현식 : 값, 변수, 연산자 등을 조합하여 계산되고 결과를 내는 코드 구조\n",
    "\n",
    "- 표현식이 평가라는 과정을 거쳐 값이 반환됨\n",
    "\n",
    "### 평가 :표현식이나 문장을 실행하여 결과를 계산하고 값을 결정하는 과정\n",
    "\n",
    "### 문장 : 실행 가능한 동작을 기술하는 코드(조건문, 반복문, 함수정의), 그 자체로 동작 할 수 있어야함\n",
    "\n",
    "- 문장은 보통 여러개의 표현식을 포함\n"
   ]
  },
  {
   "cell_type": "markdown",
   "metadata": {},
   "source": [
    "### 연산자 우선순위\n",
    "- **(지수) -> -(음수부호) -> *,/,//,% (곱셈, 정수 나눗셈, 나머지) -> +,- (덧셈, 뺄셈)"
   ]
  },
  {
   "cell_type": "code",
   "execution_count": null,
   "metadata": {},
   "outputs": [
    {
     "data": {
      "text/plain": [
       "16"
      ]
     },
     "execution_count": 4,
     "metadata": {},
     "output_type": "execute_result"
    }
   ],
   "source": [
    "-2 ** 4 # -16 지수가 우선순위라서\n",
    "\n",
    "-(2**4) # -16\n",
    "\n",
    "(-2)**4 # 16"
   ]
  },
  {
   "cell_type": "markdown",
   "metadata": {},
   "source": [
    "### 변수\n",
    "- 값을 참조하는 이름 (참조한다 : 어떠한 값을 바라보고 있다)\n",
    "- 메모리 주소가 들어있음\n",
    "\n",
    "### 할당문\n",
    "- degrees =36.5, 변수 degrees에 값 36.5를 할당했다\n",
    "1. 할당 연산자 오른쪽에 있는 표현식을 평가해서 값(메모리 주소를 생성)\n",
    "2. 값의 메모리 주소를 '=' 왼쪽에 있는 변수에 저장\n",
    "\n",
    "### 변수명 규칙(식별자 규칙)\n",
    "- 영문 알파벳, 언더스코어 (_), 숫자로 구성\n",
    "- 숫자로 시작 불가\n",
    "- 대소문자를 구분\n",
    "- 파이썬의 내부 예약어로 사용할 수 없음\n",
    "\n",
    "### 객체\n",
    "- 타입을 갖는 메모리 주소 내 값, \"값이 들어있는 상자\"\n",
    "\n",
    "\n"
   ]
  },
  {
   "cell_type": "code",
   "execution_count": 5,
   "metadata": {},
   "outputs": [
    {
     "name": "stdout",
     "output_type": "stream",
     "text": [
      "20\n",
      "20\n"
     ]
    }
   ],
   "source": [
    "number =10\n",
    "double = 2* number\n",
    "print(double) #20\n",
    "\n",
    "number = 5\n",
    "print(double) # ?? ->20"
   ]
  },
  {
   "cell_type": "markdown",
   "metadata": {},
   "source": [
    "### 파이썬 스타일 가이드\n",
    "- 변수명은 직관적인 이름을 가져야 함\n",
    "- 공백 4칸을 사용하여 코드블록\n",
    "- 한줄의 길이는 79자로 제한\n",
    "- 문자와 밑줄을 사용하여 함수, 변수, 속성의 이름을 작성\n",
    "- 함수정의나 클래스 정의 등의 블록 사이에는 빈줄을 추가\n"
   ]
  }
 ],
 "metadata": {
  "kernelspec": {
   "display_name": "Python 3",
   "language": "python",
   "name": "python3"
  },
  "language_info": {
   "codemirror_mode": {
    "name": "ipython",
    "version": 3
   },
   "file_extension": ".py",
   "mimetype": "text/x-python",
   "name": "python",
   "nbconvert_exporter": "python",
   "pygments_lexer": "ipython3",
   "version": "3.9.13"
  },
  "orig_nbformat": 4
 },
 "nbformat": 4,
 "nbformat_minor": 2
}
