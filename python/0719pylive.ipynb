{
 "cells": [
  {
   "cell_type": "markdown",
   "metadata": {},
   "source": [
    "# 0719 python live"
   ]
  },
  {
   "cell_type": "markdown",
   "metadata": {},
   "source": [
    "## 함수\n",
    "> 특정 작업을 수행하기 위한 재사용 가능한 코드 묶음\n",
    "- 함수를 정의하고 사용함으로써 코드 중복 방지\n",
    "- 재사용성 높아지고 `가독성과 유지보수성` 향상"
   ]
  },
  {
   "cell_type": "markdown",
   "metadata": {},
   "source": [
    "### 내장함수\n",
    "> 파이썬이 기본적으로 제공하는 함수, import 없이 바로 사용가능\n",
    "- ex) abs() 함수\n"
   ]
  },
  {
   "cell_type": "markdown",
   "metadata": {},
   "source": [
    "### 함수호출\n",
    "> 함수를 실행하기 위해 함수의 이름을 사용하여 해당함수의 코드블록을 실행"
   ]
  },
  {
   "cell_type": "code",
   "execution_count": 2,
   "metadata": {},
   "outputs": [],
   "source": [
    "def make_sum(pram1, pram2):\n",
    "    return pram1+ pram2"
   ]
  },
  {
   "cell_type": "markdown",
   "metadata": {},
   "source": [
    "### 함수 정의\n",
    "- def 키워드로 시작\n",
    "- def 키워드 이후 함수 이름 작성\n",
    "- 괄호안에 매개변수 정의하고 매개변수(파라미터)는 함수에 전달되는 값을 나타냄\n",
    "\n",
    "### 함수 body\n",
    "- 콜론 다음 들여쓰기 된 코드 블록\n",
    "- 함수가 실행될때 수행되는 코드를 정의\n",
    "\n",
    "### 함수 반환값\n",
    "- return 키워드 이후에 반환할 값을 명시\n",
    "- return 무은 함수의 실행을 종료하고 결과를 호출부분으로 반환\n",
    "- 반환값 없이 할당하면 None이 할당됨\n",
    "\n",
    "### 매개변수(parameter)\n",
    "> 함수를 `정의할 때` 함수가 받을 값을 나타내는 함수\n",
    "\n",
    "### 인자(argument)\n",
    "> 함수를 `호출할 때` 실제로 전달되는 값"
   ]
  },
  {
   "cell_type": "markdown",
   "metadata": {},
   "source": [
    "## 인자의 종류\n",
    "\n",
    "### 위치인자\n",
    "> 함수 호출 시 인자의 위치에 따라 전달되는 인자\n",
    "- `위치인자는 함수 호출 시 반드시 값을 전달해야 함`"
   ]
  },
  {
   "cell_type": "code",
   "execution_count": null,
   "metadata": {},
   "outputs": [],
   "source": [
    "def greet(name, age):\n",
    "    print(f'안녕하세요, {name}님! {age}살 이시군요.')\n",
    "\n",
    "\n",
    "greet('Alice' ,25)\n",
    "\n",
    "#인자가 누락되면 안됨\n",
    "\n"
   ]
  },
  {
   "cell_type": "markdown",
   "metadata": {},
   "source": [
    "### 기본인자값\n",
    "> 함수 정의에서 매개변수에 기본값을 할당하는 것, 함수 호출시 인자를 전달하지 않으면 기본값이 매개변수에 할당됨"
   ]
  },
  {
   "cell_type": "code",
   "execution_count": 3,
   "metadata": {},
   "outputs": [
    {
     "name": "stdout",
     "output_type": "stream",
     "text": [
      "안녕하세요 Bob님 30살 이시군요\n",
      "안녕하세요 Charlie님 40살 이시군요\n"
     ]
    }
   ],
   "source": [
    "def greet(name, age = 30):\n",
    "    print(f'안녕하세요 {name}님 {age}살 이시군요')\n",
    "\n",
    "greet('Bob') # 안녕하세요 밥님 30살 이시군요\n",
    "greet(\"Charlie\", 40) # 안녕하세요 charlie님 40살 이시군요"
   ]
  },
  {
   "cell_type": "markdown",
   "metadata": {},
   "source": [
    "### 키워드 인자\n",
    "- 함수 호출 시 인자의 이름과 함께 값읠 전달하는 인자\n",
    "- 매개변수와 인자를 일치시키지않고, 특정매개변수에 값을 할당 할 수 있음\n",
    "- 인자의 순서는 중요x, 인자의 이름을 명시하여 전달\n",
    "- `단, 호출 시 키워드 인자는 위치인자 뒤에 위치해야함`"
   ]
  },
  {
   "cell_type": "code",
   "execution_count": 4,
   "metadata": {},
   "outputs": [
    {
     "ename": "SyntaxError",
     "evalue": "positional argument follows keyword argument (4166630485.py, line 6)",
     "output_type": "error",
     "traceback": [
      "\u001b[1;36m  Cell \u001b[1;32mIn[4], line 6\u001b[1;36m\u001b[0m\n\u001b[1;33m    greet(age= 35, 'dave') # 오류\u001b[0m\n\u001b[1;37m                         ^\u001b[0m\n\u001b[1;31mSyntaxError\u001b[0m\u001b[1;31m:\u001b[0m positional argument follows keyword argument\n"
     ]
    }
   ],
   "source": [
    "def greet(name, age):\n",
    "    print(f'안녕하세요{name}님 {age}살이시군요')\n",
    "\n",
    "greet(name='dave', age= 35) # 안녕하세요 dave님 35살 이시군요\n",
    "\n",
    "greet(age= 35, 'dave') # 오류"
   ]
  },
  {
   "cell_type": "markdown",
   "metadata": {},
   "source": [
    "### 임의의 인자 목록\n",
    "- 정해지지 않은 개수의 인자를 처리하는 인자\n",
    "- 함수 정의 시 매개변수 앞에 `*`를 붙여 사용하며 여려개의 인자를 `tuple`로 처리"
   ]
  },
  {
   "cell_type": "code",
   "execution_count": 8,
   "metadata": {},
   "outputs": [
    {
     "name": "stdout",
     "output_type": "stream",
     "text": [
      "(1, 2, 3)\n",
      "합계 : 6\n"
     ]
    }
   ],
   "source": [
    "def calculate_sum(*args):\n",
    "    print(args)\n",
    "    total= sum(args)\n",
    "    print(f'합계 : {total}')\n",
    "\n",
    "calculate_sum(1,2,3)"
   ]
  },
  {
   "cell_type": "markdown",
   "metadata": {},
   "source": [
    "### 임의의 키워드 인자 목록\n",
    "- 정해지지 않은 개수의 키워드 인자를 처리하는 인자\n",
    "- 함수 정의 시 매개변수 앞에 `**`를 붙여 사용하며 여러개의 인자를 `dictionary`로 묶어 처리\n"
   ]
  },
  {
   "cell_type": "code",
   "execution_count": 10,
   "metadata": {},
   "outputs": [
    {
     "name": "stdout",
     "output_type": "stream",
     "text": [
      "{'name': 'Eve', 'age': 30}\n"
     ]
    }
   ],
   "source": [
    "def print_info(**kwargs):\n",
    "    print(kwargs)\n",
    "\n",
    "print_info(name = 'Eve', age =30) # 딕셔너리 형태    "
   ]
  },
  {
   "cell_type": "markdown",
   "metadata": {},
   "source": [
    "### Scope\n",
    "> 함수는 코드 내부에 local scope를 생성하고 그 외의 공간에 global scope로 구분\n",
    "- global scope: 코드 어디에서든 참조할 수 있는 공간\n",
    "- local scope: 함수가 만든 scope\n"
   ]
  },
  {
   "cell_type": "code",
   "execution_count": 12,
   "metadata": {},
   "outputs": [
    {
     "name": "stdout",
     "output_type": "stream",
     "text": [
      "10 2 500\n",
      "10 2 3\n",
      "1 2\n"
     ]
    }
   ],
   "source": [
    "# LEGB Rule 예시\n",
    "\n",
    "a = 1\n",
    "b = 2\n",
    "\n",
    "def enclosed():\n",
    "    a = 10\n",
    "    c = 3\n",
    "\n",
    "    def local(c):\n",
    "        print(a, b, c) ###??\n",
    "\n",
    "    local(500)\n",
    "    print(a, b, c) ##??\n",
    "\n",
    "enclosed()\n",
    "print(a, b) ##??    "
   ]
  },
  {
   "cell_type": "markdown",
   "metadata": {},
   "source": [
    "### global 키워드\n",
    "- 변수의 스코프를 전역범위로 지정하기 위해 사용\n",
    "- 일반적으로 함수 내에서 전역변수를 수정하려는 경우\n",
    "- 매개변수에 global 사용 불가"
   ]
  },
  {
   "cell_type": "code",
   "execution_count": 13,
   "metadata": {},
   "outputs": [
    {
     "name": "stdout",
     "output_type": "stream",
     "text": [
      "0\n",
      "1\n"
     ]
    }
   ],
   "source": [
    "num = 0 # 전역 변수\n",
    "\n",
    "def increment():\n",
    "    global num # num 을 전역 변수로 선언\n",
    "    num +=1\n",
    "\n",
    "print(num) # 0\n",
    "increment()\n",
    "print(num) #1    \n"
   ]
  },
  {
   "cell_type": "markdown",
   "metadata": {},
   "source": [
    "### 재귀함수\n",
    "> 함수내부에서 자기 자신을 호출하는 함수\n",
    "- 특정 알고리즘 식을 표현할때, 변수 사용 줄어들며 코드의 가독성이 높아짐\n",
    "- 종료조건 있어야함\n",
    "- 무한호출 조심"
   ]
  },
  {
   "cell_type": "code",
   "execution_count": 14,
   "metadata": {},
   "outputs": [
    {
     "name": "stdout",
     "output_type": "stream",
     "text": [
      "120\n"
     ]
    }
   ],
   "source": [
    "def factorial(n):\n",
    "    #종료조건: n이 0이면 1을 반환\n",
    "\n",
    "    if n == 0:\n",
    "        return 1\n",
    "    #재귀호출 n과 n-1의 팩토리얼을 곱한 결과를 반환\n",
    "    return n *factorial(n - 1)\n",
    "\n",
    "#팩토리얼 계산 예시\n",
    "\n",
    "result = factorial(5)\n",
    "print(result)"
   ]
  },
  {
   "cell_type": "markdown",
   "metadata": {},
   "source": [
    "### map 함수\n",
    "> map(fuction, iterable)\n",
    "> 순회 가능한 데이터 구조의 모든 요소에 적용하고 그 결과를 map object로 반환\n",
    "\n",
    "- iterable은 반복이 가능한 객체 대표적으로 str, tuple, list, 등등"
   ]
  },
  {
   "cell_type": "code",
   "execution_count": 16,
   "metadata": {},
   "outputs": [
    {
     "name": "stdout",
     "output_type": "stream",
     "text": [
      "<map object at 0x0000027019825190>\n",
      "['1', '2', '3']\n"
     ]
    }
   ],
   "source": [
    "numbers = [1, 2, 3]\n",
    "result = map(str, numbers)\n",
    "\n",
    "print(result) # map 객체가 나옴\n",
    "print(list(result))"
   ]
  },
  {
   "cell_type": "markdown",
   "metadata": {},
   "source": [
    "### zip 함수\n",
    "- 임의의 iterable을 모아 `튜플을 원소`로 하는 zip object를 반환\n"
   ]
  },
  {
   "cell_type": "code",
   "execution_count": 17,
   "metadata": {},
   "outputs": [
    {
     "name": "stdout",
     "output_type": "stream",
     "text": [
      "<zip object at 0x00000270184A7C00>\n",
      "[('jane', 'peter'), ('ashley', 'jay')]\n"
     ]
    }
   ],
   "source": [
    "girls = ['jane', 'ashley']\n",
    "boys = ['peter', 'jay']\n",
    "pair = zip(girls, boys)\n",
    "\n",
    "print(pair)\n",
    "print(list(pair))"
   ]
  },
  {
   "cell_type": "markdown",
   "metadata": {},
   "source": [
    "### lambda 함수\n",
    "> 이름없이 정의되고 사용되는 익명의 함수\n",
    "\n",
    "- 간단한 연산이나 함수를 한 줄로 표현할 때 사용\n",
    "- 함수를 매개변수로 전달하는 경우에도 유용하게 사용\n"
   ]
  },
  {
   "cell_type": "code",
   "execution_count": 19,
   "metadata": {},
   "outputs": [
    {
     "name": "stdout",
     "output_type": "stream",
     "text": [
      "8\n"
     ]
    }
   ],
   "source": [
    "addition = lambda x, y: x+y\n",
    "\n",
    "result = addition(3,5)\n",
    "\n",
    "print(result)"
   ]
  },
  {
   "cell_type": "code",
   "execution_count": 21,
   "metadata": {},
   "outputs": [
    {
     "name": "stdout",
     "output_type": "stream",
     "text": [
      "[2, 4, 6, 8, 10]\n"
     ]
    }
   ],
   "source": [
    "# map + lambda\n",
    "numbers=[1 ,2, 3, 4, 5]\n",
    "\n",
    "result = list(map(lambda x: x*2, numbers))\n",
    "print(result)"
   ]
  },
  {
   "cell_type": "code",
   "execution_count": null,
   "metadata": {},
   "outputs": [],
   "source": []
  }
 ],
 "metadata": {
  "kernelspec": {
   "display_name": "Python 3",
   "language": "python",
   "name": "python3"
  },
  "language_info": {
   "codemirror_mode": {
    "name": "ipython",
    "version": 3
   },
   "file_extension": ".py",
   "mimetype": "text/x-python",
   "name": "python",
   "nbconvert_exporter": "python",
   "pygments_lexer": "ipython3",
   "version": "3.9.13"
  },
  "orig_nbformat": 4
 },
 "nbformat": 4,
 "nbformat_minor": 2
}
