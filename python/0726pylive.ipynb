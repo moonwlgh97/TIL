{
 "cells": [
  {
   "cell_type": "markdown",
   "metadata": {},
   "source": [
    "# 0726 python live"
   ]
  },
  {
   "cell_type": "markdown",
   "metadata": {},
   "source": [
    "## 객체지향 프로그래밍\n"
   ]
  },
  {
   "cell_type": "markdown",
   "metadata": {},
   "source": [
    "### 절차 지향 프로그래밍\n",
    "> 프로그램을 '데이터' 와 '절차'로 구성하는 방식의 프로그램 패러다임\n",
    "- '데이터'와 해당 데이터를 처리하는 '함수(절차)'가 분리되어 있으며 함수 호출 흐름이 중요\n",
    "- 코드의 순차적인 흐름과 함수 호출에 의해 프로그램이 진행\n",
    "- 실제로 실행되는 내용이 무엇이 무엇인가가 중요\n",
    "- 데이터를 재사용하거나 하기보다는 처음부터 끝까지 실행되는 결과물\n"
   ]
  },
  {
   "cell_type": "markdown",
   "metadata": {},
   "source": [
    "### 객체 지향 프로그래밍\n",
    "> 데이터와 해당 데이터를 조작하는 메서드를 하나의 객체로 묶어 관리하는 방식의 프로그램 패러다임"
   ]
  },
  {
   "cell_type": "markdown",
   "metadata": {},
   "source": [
    "### 절차지향 vs 객체지향\n",
    "> 절차지향\n",
    "- 데이터와 해당 데이터를 처리하는 함수(절차)가 분리\n",
    "- 함수 호출의 흐름이 중요\n",
    "- 함수(데이터)\n",
    "\n",
    "> 객체지향\n",
    "- 데이터와 해당 데이터를 처리하는 메서드(메시지)를 하나의 객체(클래스)로 묶음\n",
    "- 객체 간 상호작용과 메시지 전달이 중요\n",
    "- 데이터(객체). 메서드"
   ]
  },
  {
   "cell_type": "markdown",
   "metadata": {},
   "source": [
    "### 클래스\n",
    "> 파이썬에서 타입을 표현하는 방법\n",
    "- 객체를 생성하기 위한 설계도\n",
    "- 데이터와 기능을 함께 묶는 방법을 제공"
   ]
  },
  {
   "cell_type": "code",
   "execution_count": 3,
   "metadata": {},
   "outputs": [
    {
     "name": "stdout",
     "output_type": "stream",
     "text": [
      "iu가 노래합니다\n",
      "BTS가 노래합니다\n",
      "red\n",
      "red\n"
     ]
    }
   ],
   "source": [
    "# 클래스 정의\n",
    "class Person:\n",
    "    #속성(변수)\n",
    "    blood_color = 'red'\n",
    "\n",
    "    #메서드\n",
    "    def __init__(self, name):\n",
    "        self.name = name\n",
    "\n",
    "    def singing(self):\n",
    "        return f'{self.name}가 노래합니다'    \n",
    "\n",
    "\n",
    "#인스턴스 생성\n",
    "singer1 = Person('iu')\n",
    "singer2 = Person('BTS')\n",
    "\n",
    "#매서드 호출\n",
    "print(singer1.singing())\n",
    "print(singer2.singing())\n",
    "\n",
    "# 속성(변수)\n",
    "print(singer1.blood_color)\n",
    "print(singer2.blood_color)\n",
    "\n"
   ]
  },
  {
   "cell_type": "markdown",
   "metadata": {},
   "source": [
    "### 객체 \n",
    "> 클래스에서 정의한 것을 토대로 메모리에 할당된 것, '속성'과 '행동' 으로 구성된 모든 것\n",
    "- ex) 가수-> 객체(클래스) / 속성(변수) -> 직업, 생년월일, 국적 / 행동(메서드) -> 랩(), 댄스() \n",
    "-클래스로 만든 객체를 `인스턴스`라고 함\n"
   ]
  },
  {
   "cell_type": "markdown",
   "metadata": {},
   "source": [
    "### 클래스와 객체\n",
    "- 변수 name의 타입은 str 클래스다.\n",
    "- 변수 name은 `str 클래스의 인스턴스`이다\n",
    "- 데이터 타입은 모두 클래스 이다\n",
    "- 문자열 타입의 변수는 str 클래스로 만든 인스턴스이다, 문자열타입(클래스)의 객체(인스턴스)"
   ]
  },
  {
   "cell_type": "markdown",
   "metadata": {},
   "source": [
    "### 인스턴스와 메서드\n",
    "- 문자열.대문자로() -> 객체.행동() -> 인스턴스.메서드()\n",
    "- 하나의 객체는 특정타입의 인스턴스이다\n"
   ]
  },
  {
   "cell_type": "markdown",
   "metadata": {},
   "source": [
    "### 객체의 특징\n",
    "- 타입: 어떤 연산자와 조작이 가능한가\n",
    "- 속성: 어떤 상태를 가지는가\n",
    "- 조작법: 어떤 행위(함수)를 할 수 있는가\n",
    "- 객체 = 속성 + 기능\n"
   ]
  },
  {
   "cell_type": "markdown",
   "metadata": {},
   "source": [
    "> 생성자 함수\n",
    "- 객체를 생성할 때 자동으로 호출되는 특별한 메서드( 매직 메서드)\n",
    "뒤에 더 있음"
   ]
  },
  {
   "cell_type": "markdown",
   "metadata": {},
   "source": [
    ">인스턴스 변수\n",
    "- 인스턴스(객체)마다 별도로 유지되는 변수\n",
    "- 인스턴스마다 독립적인 값을 가지며 인스턴스가 `생성될 때마다 초기화됨`"
   ]
  },
  {
   "cell_type": "markdown",
   "metadata": {},
   "source": [
    "> 클래스 변수\n",
    "- 클래스 내부에 선언된 변수\n",
    "- 클래스로 생성된 모든 인스턴스들이 공유하는 변수"
   ]
  },
  {
   "cell_type": "markdown",
   "metadata": {},
   "source": [
    "> 인스턴스 메서드\n",
    "- 각각의 인스턴스에서 호출할 수 있는 메서드\n",
    "-ㄴㅁㄻㄴㅇㄹ"
   ]
  },
  {
   "cell_type": "markdown",
   "metadata": {},
   "source": [
    "### 인스턴스와 클래스 간의 이름공간\n",
    "- 클래스를 정의하면, 클래스와 해당하는 이름 공간 생성\n",
    "- 인스턴스를 만들면, 인스턴스 객체가 생성되고 독립적인 이름 공간 생성\n",
    "- 인스턴스에서 특정 속성에 접근하면 인스턴스 -> 클래스 순으로 탐색"
   ]
  },
  {
   "cell_type": "code",
   "execution_count": 5,
   "metadata": {},
   "outputs": [
    {
     "name": "stdout",
     "output_type": "stream",
     "text": [
      "unknown\n",
      "unknown\n",
      "kim\n",
      "unknown\n",
      "unknown\n",
      "kim\n"
     ]
    }
   ],
   "source": [
    "# Person 정의\n",
    "class Person:\n",
    "    name = 'unknown'\n",
    "\n",
    "    def talk(self):\n",
    "        print(self.name)\n",
    "\n",
    "\n",
    "p1 = Person()\n",
    "p1.talk()\n",
    "\n",
    "p2 = Person()\n",
    "p2.talk()\n",
    "p2.name = 'kim'\n",
    "p2.talk()\n",
    "\n",
    "print(Person.name)\n",
    "print(p1.name)\n",
    "print(p2.name)"
   ]
  },
  {
   "cell_type": "markdown",
   "metadata": {},
   "source": [
    "### 독립적인 이름공간을 가지는 이점\n",
    "- 클래스와 다른 인스턴스 간에는 서로의 데이터나 사애에 직접적인 접근이 불가능\n",
    "- 클래스와 인스턴스를 모듈화하고 각각의 객체가 독립적으로 동작하도록 보장\n",
    "- 이를 통해 클래스와 인스턴스는 다른 객체들과의 상호작용에서 서로 충돌이나 영향을 주지 않고 독립적으로 동작\n",
    "\n"
   ]
  },
  {
   "cell_type": "markdown",
   "metadata": {},
   "source": [
    "### 메서드의 종류"
   ]
  },
  {
   "cell_type": "markdown",
   "metadata": {},
   "source": [
    "#### 인스턴스 메서드\n",
    "> 클래스로부터 생성된 각 인스턴스에서 호출할 수 있는 메서드\n",
    "> 인스턴스의 상태를 조작하거나 동작을 수행\n",
    "- 클래스 내부에 정의되는 메서드의 기본\n",
    "- 반드시 첫 번째 매개변수로 `인스턴스 자신(self)`을 전달받음"
   ]
  },
  {
   "cell_type": "code",
   "execution_count": null,
   "metadata": {},
   "outputs": [],
   "source": [
    "# 인스턴스. 메서드()\n",
    "'abc'.upper()\n",
    "\n",
    "#클래스.메서드( 인스턴스 자기자신)\n",
    "str.upper('abc')\n"
   ]
  },
  {
   "cell_type": "markdown",
   "metadata": {},
   "source": [
    "#### 생성자 메서드\n",
    "> 인스턴스 객체가 생성될 떄 자동으로 호출되는 메서드, 인스턴스 변수들의 초기값을 설정\n"
   ]
  },
  {
   "cell_type": "markdown",
   "metadata": {},
   "source": [
    "#### 클래스 메서드\n",
    "> 클래스가 호출하는 메서드, 클래스 변수를 조작하거나 클래스 레벨의 동작을 수행\n",
    "- `@classmethod` 데코레이터를 사용하여 정의\n",
    "- 호출 시 첫번째 인자로 호출하는 클래스가 전달됨"
   ]
  },
  {
   "cell_type": "code",
   "execution_count": 5,
   "metadata": {},
   "outputs": [
    {
     "name": "stdout",
     "output_type": "stream",
     "text": [
      "인구수는 2입니다\n"
     ]
    }
   ],
   "source": [
    "class Person:\n",
    "    count =0\n",
    "\n",
    "    def __init__(self,name):\n",
    "        self.name=name\n",
    "        Person.count +=1\n",
    "\n",
    "    @classmethod\n",
    "    def number_of_population(cls):\n",
    "        print(f'인구수는 {cls.count}입니다')\n",
    "\n",
    "\n",
    "person1 = Person('iu')\n",
    "person2 = Person('BTS')\n",
    "\n",
    "Person.number_of_population()"
   ]
  },
  {
   "cell_type": "markdown",
   "metadata": {},
   "source": [
    "#### 스태틱(정적) 메서드\n",
    "> 클래스와 인스턴스와 상관업싱 독립적으로 동작하는 메서드\n",
    "- 주로 클래스와 관련이 있지만 인스턴스와 상호작용이 필요하지 않은 경우에 사용\n",
    "- @staticmethod 사용하여 정의\n",
    "- 호출시 필수적으로 작성해야할 매개변수가 없음\n",
    "- 즉, 객체 상태나 클래스 상태를 수정할 수 없으며 단지 기능(행동)만을 위한 메서드로 사용"
   ]
  },
  {
   "cell_type": "code",
   "execution_count": 6,
   "metadata": {},
   "outputs": [
    {
     "name": "stdout",
     "output_type": "stream",
     "text": [
      "dlroW olleh\n",
      "Hello world\n"
     ]
    }
   ],
   "source": [
    "# 스태택 메서드 예시\n",
    "class StringUtils:\n",
    "    @staticmethod\n",
    "    def reverse_string(string):\n",
    "        return string[::-1]\n",
    "    \n",
    "    @staticmethod\n",
    "    def capitalize_string(string):\n",
    "        return string.capitalize()\n",
    "    \n",
    "text = 'hello World'\n",
    "\n",
    "\n",
    "reversed_text = StringUtils.reverse_string(text)\n",
    "print(reversed_text)\n",
    "capitalized_text =StringUtils.capitalize_string(text)\n",
    "print(capitalized_text)"
   ]
  },
  {
   "cell_type": "code",
   "execution_count": null,
   "metadata": {},
   "outputs": [],
   "source": []
  },
  {
   "cell_type": "code",
   "execution_count": null,
   "metadata": {},
   "outputs": [],
   "source": []
  }
 ],
 "metadata": {
  "kernelspec": {
   "display_name": "Python 3",
   "language": "python",
   "name": "python3"
  },
  "language_info": {
   "codemirror_mode": {
    "name": "ipython",
    "version": 3
   },
   "file_extension": ".py",
   "mimetype": "text/x-python",
   "name": "python",
   "nbconvert_exporter": "python",
   "pygments_lexer": "ipython3",
   "version": "3.9.13"
  },
  "orig_nbformat": 4
 },
 "nbformat": 4,
 "nbformat_minor": 2
}
